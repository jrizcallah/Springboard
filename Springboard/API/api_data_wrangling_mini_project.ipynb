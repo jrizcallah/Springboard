{
 "cells": [
  {
   "cell_type": "markdown",
   "metadata": {},
   "source": [
    "This exercise will require you to pull some data from the Quandl API. Quandl is currently the most widely used aggregator of financial market data."
   ]
  },
  {
   "cell_type": "markdown",
   "metadata": {},
   "source": [
    "As a first step, you will need to register a free account on the http://www.quandl.com website."
   ]
  },
  {
   "cell_type": "markdown",
   "metadata": {},
   "source": [
    "After you register, you will be provided with a unique API key, that you should store:"
   ]
  },
  {
   "cell_type": "code",
   "execution_count": 5,
   "metadata": {},
   "outputs": [],
   "source": [
    "# Store the API key as a string - according to PEP8, constants are always named in all upper case\n",
    "API_KEY = '4mmbTeiuGgqRrrVz6A6o'"
   ]
  },
  {
   "cell_type": "markdown",
   "metadata": {},
   "source": [
    "Qaundl has a large number of data sources, but, unfortunately, most of them require a Premium subscription. Still, there are also a good number of free datasets."
   ]
  },
  {
   "cell_type": "markdown",
   "metadata": {},
   "source": [
    "For this mini project, we will focus on equities data from the Frankfurt Stock Exhange (FSE), which is available for free. We'll try and analyze the stock prices of a company called Carl Zeiss Meditec, which manufactures tools for eye examinations, as well as medical lasers for laser eye surgery: https://www.zeiss.com/meditec/int/home.html. The company is listed under the stock ticker AFX_X."
   ]
  },
  {
   "cell_type": "markdown",
   "metadata": {},
   "source": [
    "You can find the detailed Quandl API instructions here: https://docs.quandl.com/docs/time-series"
   ]
  },
  {
   "cell_type": "markdown",
   "metadata": {},
   "source": [
    "While there is a dedicated Python package for connecting to the Quandl API, we would prefer that you use the *requests* package, which can be easily downloaded using *pip* or *conda*. You can find the documentation for the package here: http://docs.python-requests.org/en/master/ "
   ]
  },
  {
   "cell_type": "markdown",
   "metadata": {},
   "source": [
    "Finally, apart from the *requests* package, you are encouraged to not use any third party Python packages, such as *pandas*, and instead focus on what's available in the Python Standard Library (the *collections* module might come in handy: https://pymotw.com/3/collections/ ).\n",
    "Also, since you won't have access to DataFrames, you are encouraged to us Python's native data structures - preferably dictionaries, though some questions can also be answered using lists.\n",
    "You can read more on these data structures here: https://docs.python.org/3/tutorial/datastructures.html"
   ]
  },
  {
   "cell_type": "markdown",
   "metadata": {},
   "source": [
    "Keep in mind that the JSON responses you will be getting from the API map almost one-to-one to Python's dictionaries. Unfortunately, they can be very nested, so make sure you read up on indexing dictionaries in the documentation provided above."
   ]
  },
  {
   "cell_type": "code",
   "execution_count": 6,
   "metadata": {},
   "outputs": [],
   "source": [
    "# First, import the relevant modules\n",
    "import pandas as pd\n",
    "import numpy as np\n",
    "import requests\n",
    "import json"
   ]
  },
  {
   "cell_type": "code",
   "execution_count": 7,
   "metadata": {},
   "outputs": [],
   "source": [
    "# Now, call the Quandl API and pull out a small sample of the data (only one day) to get a glimpse\n",
    "# into the JSON structure that will be returned\n",
    "url = \"https://quandl.com/api/v3/datasets/FSE/AFX_X/data.json?api_key=\"+API_KEY\n",
    "r = requests.get(url)\n",
    "json_data = json.loads(r.text)"
   ]
  },
  {
   "cell_type": "code",
   "execution_count": 21,
   "metadata": {},
   "outputs": [
    {
     "name": "stdout",
     "output_type": "stream",
     "text": [
      "dict_keys(['dataset_data'])\n",
      "dict_keys(['limit', 'transform', 'column_index', 'column_names', 'start_date', 'end_date', 'frequency', 'data', 'collapse', 'order'])\n",
      "['Date', 'Open', 'High', 'Low', 'Close', 'Change', 'Traded Volume', 'Turnover', 'Last Price of the Day', 'Daily Traded Units', 'Daily Turnover']\n",
      "2000-06-07\n",
      "2020-11-06\n",
      "['2020-11-06', 115.2, 115.8, 114.8, 115.1, None, 190.0, 21831.0, None, None, None]\n"
     ]
    }
   ],
   "source": [
    "# Inspect the JSON structure of the object you created, and take note of how nested it is,\n",
    "# as well as the overall structure\n",
    "print(json_data.keys())\n",
    "print(json_data['dataset_data'].keys())\n",
    "print(json_data['dataset_data']['column_names'])\n",
    "print(json_data['dataset_data']['start_date'])\n",
    "print(json_data['dataset_data']['end_date'])\n",
    "print(json_data['dataset_data']['data'][0])"
   ]
  },
  {
   "cell_type": "markdown",
   "metadata": {},
   "source": [
    "These are your tasks for this mini project:\n",
    "\n",
    "1. Collect data from the Franfurt Stock Exchange, for the ticker AFX_X, for the whole year 2017 (keep in mind that the date format is YYYY-MM-DD).\n",
    "2. Convert the returned JSON object into a Python dictionary.\n",
    "3. Calculate what the highest and lowest opening prices were for the stock in this period.\n",
    "4. What was the largest change in any one day (based on High and Low price)?\n",
    "5. What was the largest change between any two days (based on Closing Price)?\n",
    "6. What was the average daily trading volume during this year?\n",
    "7. (Optional) What was the median trading volume during this year. (Note: you may need to implement your own function for calculating the median.)"
   ]
  },
  {
   "cell_type": "code",
   "execution_count": 24,
   "metadata": {},
   "outputs": [],
   "source": [
    "# 1\n",
    "url = \"https://quandl.com/api/v3/datasets/FSE/AFX_X/data.json?start_date=2017-01-01&end_date=2017-12-31&api_key=\" + API_KEY\n",
    "r = requests.get(url)"
   ]
  },
  {
   "cell_type": "code",
   "execution_count": 30,
   "metadata": {},
   "outputs": [],
   "source": [
    "# 2\n",
    "dict_data = r.json()['dataset_data']"
   ]
  },
  {
   "cell_type": "code",
   "execution_count": 123,
   "metadata": {},
   "outputs": [
    {
     "name": "stdout",
     "output_type": "stream",
     "text": [
      "         Date   Open   High    Low  Close   Volume\n",
      "0  2017-01-02  34.99  35.94  34.99  35.80  44700.0\n",
      "1  2017-01-03  35.90  35.93  35.34  35.48  70618.0\n",
      "2  2017-01-04  35.48  35.51  34.75  35.19  54408.0\n",
      "3  2017-01-05  35.02  35.20  34.73  35.06  48412.0\n",
      "4  2017-01-06  34.91  35.21  34.91  35.04  27507.0\n"
     ]
    }
   ],
   "source": [
    "# I want to split this up by date. Actually, I want to just redesign it entirely so that it is easier to work with.\n",
    "Date = []\n",
    "Open = []\n",
    "High = []\n",
    "Low = []\n",
    "Close = []\n",
    "Volume = []\n",
    "for day in dict_data['data']:\n",
    "    Date.append(day[0])\n",
    "    Open.append(day[1])\n",
    "    High.append(day[2])\n",
    "    Low.append(day[3])\n",
    "    Close.append(day[4])\n",
    "    Volume.append(day[6])\n",
    "    \n",
    "data = pd.DataFrame({\"Date\":Date, \"Open\":Open, \"High\":High, \"Low\":Low, \"Close\":Close, \"Volume\":Volume})\n",
    "data = data.sort_values('Date').reset_index(drop = True)\n",
    "print(data.head())"
   ]
  },
  {
   "cell_type": "code",
   "execution_count": 124,
   "metadata": {},
   "outputs": [
    {
     "name": "stdout",
     "output_type": "stream",
     "text": [
      "The highest opening price in 2017 was: $53.11 on 2017-12-14\n",
      "The lowest opening price in 2017 was: $34.0 on 2017-01-24\n"
     ]
    }
   ],
   "source": [
    "# 3\n",
    "highest = data['Open'].max()\n",
    "highest_day = data['Open'].argmax()\n",
    "lowest = data['Open'].min()\n",
    "lowest_day = data['Open'].argmin()\n",
    "print(\"The highest opening price in 2017 was: ${} on {}\".format(highest, data['Date'][highest_day]))\n",
    "print(\"The lowest opening price in 2017 was: ${} on {}\".format(lowest, data['Date'][lowest_day]))"
   ]
  },
  {
   "cell_type": "code",
   "execution_count": 125,
   "metadata": {},
   "outputs": [
    {
     "name": "stdout",
     "output_type": "stream",
     "text": [
      "The biggest swing in a single day was: $2.81 on 2017-05-11\n"
     ]
    }
   ],
   "source": [
    "# 4\n",
    "data['high_low_change'] = data['High'] - data['Low']\n",
    "big_change = data['high_low_change'].max()\n",
    "big_change_day = data['high_low_change'].argmax()\n",
    "\n",
    "print('The biggest swing in a single day was: ${} on {}'.format(round(big_change, 2), data['Date'][big_change_day]))"
   ]
  },
  {
   "cell_type": "code",
   "execution_count": 128,
   "metadata": {},
   "outputs": [
    {
     "name": "stdout",
     "output_type": "stream",
     "text": [
      "The biggest change in closing price between two days was: $1.72 from 2017-05-10 to 2017-05-11\n"
     ]
    },
    {
     "name": "stderr",
     "output_type": "stream",
     "text": [
      "<ipython-input-128-e66e01a1ee67>:4: SettingWithCopyWarning: \n",
      "A value is trying to be set on a copy of a slice from a DataFrame\n",
      "\n",
      "See the caveats in the documentation: https://pandas.pydata.org/pandas-docs/stable/user_guide/indexing.html#returning-a-view-versus-a-copy\n",
      "  data['daily_change'][1:] = daily_change\n"
     ]
    }
   ],
   "source": [
    "# 5\n",
    "daily_change = np.diff(data['Close'])\n",
    "data['daily_change'] = np.NaN\n",
    "data['daily_change'][1:] = daily_change\n",
    "\n",
    "big_daily_change = data['daily_change'].max()\n",
    "big_daily_change_day = data['daily_change'].argmax()\n",
    "print('The biggest change in closing price between two days was: ${} from {} to {}'.format(round(big_daily_change,2),\n",
    "                                                                                          data['Date'][big_daily_change_day-1],\n",
    "                                                                                          data['Date'][big_daily_change_day]))"
   ]
  },
  {
   "cell_type": "code",
   "execution_count": 131,
   "metadata": {},
   "outputs": [
    {
     "name": "stdout",
     "output_type": "stream",
     "text": [
      "The average daily trading volume was: 89124\n"
     ]
    }
   ],
   "source": [
    "# 6\n",
    "avg_vol = data['Volume'].mean()\n",
    "print(\"The average daily trading volume was: {}\".format(round(avg_vol)))"
   ]
  },
  {
   "cell_type": "code",
   "execution_count": 161,
   "metadata": {},
   "outputs": [
    {
     "name": "stdout",
     "output_type": "stream",
     "text": [
      "The median trading volume was: 76600.0\n",
      "The median occured on: 2017-09-27\n"
     ]
    }
   ],
   "source": [
    "# 7\n",
    "\n",
    "# There is definitely a .median() method. But I will find it the old-fashioned way. \n",
    "# Sort the values, pick out the middle value.\n",
    "med = data['Volume'].sort_values().reset_index().iloc[round(len(data['Date'])/2),:]\n",
    "print('The median trading volume was: {}'.format(med.Volume))\n",
    "print('The median occured on: {}'.format(data.loc[med['index'],'Date']))"
   ]
  },
  {
   "cell_type": "code",
   "execution_count": null,
   "metadata": {},
   "outputs": [],
   "source": []
  }
 ],
 "metadata": {
  "kernelspec": {
   "display_name": "Python 3",
   "language": "python",
   "name": "python3"
  },
  "language_info": {
   "codemirror_mode": {
    "name": "ipython",
    "version": 3
   },
   "file_extension": ".py",
   "mimetype": "text/x-python",
   "name": "python",
   "nbconvert_exporter": "python",
   "pygments_lexer": "ipython3",
   "version": "3.8.3"
  }
 },
 "nbformat": 4,
 "nbformat_minor": 2
}
