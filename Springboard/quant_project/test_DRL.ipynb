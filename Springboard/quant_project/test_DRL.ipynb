{
 "cells": [
  {
   "cell_type": "markdown",
   "id": "6e377461",
   "metadata": {},
   "source": [
    "# In this Notebook, I am going to test a Deep Reinforcement Learning Strategy"
   ]
  },
  {
   "cell_type": "code",
   "execution_count": null,
   "id": "6474e9a2",
   "metadata": {},
   "outputs": [],
   "source": [
    "from preprocessing import preprocessors\n",
    "from model import models\n",
    "\n",
    "## This file contains functions to build the actual models\n",
    "\n",
    "# common libraries\n",
    "import pandas as pd \n",
    "import numpy as np\n",
    "import time\n",
    "import gym\n",
    "\n",
    "import matplotlib.pyplot as plt\n",
    "import matplotlib\n",
    "matplotlib.use('Agg')\n",
    "\n",
    "# stable_baselines RL stuff\n",
    "from stable_baselines import GAIL, SAC\n",
    "from stable_baselines import ACER\n",
    "from stable_baselines import PPO2\n",
    "from stable_baselines import A2C\n",
    "from stable_baselines import DDPG\n",
    "from stable_baselines import TD3\n",
    "\n",
    "from stable_baselines.ddpg.policies import DDPGPolicy\n",
    "from stable_baselines.common.policies import MlpPolicy, MlpLstmPolicy, MlpLnLstmPolicy\n",
    "from stable_baselines.common.noise import NormalActionNoise, OrnsteinUhlenbeckActionNoise, AdaptiveParamNoiseSpec\n",
    "from stable_baselines.common.vec_env import DummyVecEnv\n",
    "\n",
    "\n",
    "# Custom Functions\n",
    "from preprocessing.preprocessors import *\n",
    "from config import config\n",
    "\n",
    "# Custom Environments\n",
    "from env.EnvMultipleAssets_train import AssetEnvTrain\n",
    "from env.EnvMultipleAssets_validation import AssetEnvValidation\n",
    "from env.EnvMultipleAssets_trade import AssetEnvTrade"
   ]
  },
  {
   "cell_type": "code",
   "execution_count": null,
   "id": "17d2df29",
   "metadata": {},
   "outputs": [],
   "source": [
    "data = preprocessors.preprocess_data()"
   ]
  },
  {
   "cell_type": "code",
   "execution_count": null,
   "id": "50876274",
   "metadata": {},
   "outputs": [],
   "source": [
    "data = preprocessors.add_turbulence(data)"
   ]
  },
  {
   "cell_type": "code",
   "execution_count": null,
   "id": "43a9f402",
   "metadata": {},
   "outputs": [],
   "source": [
    "# train through 2015, then validate, then test from 2018 on\n",
    "unique_trade_date = data[(data['date'] > \"2009-01-01\")&(data['date'] <= \"2020-12-01\")].date.unique()\n",
    "\n",
    "# rebalance_window is the number of months to retrain the model\n",
    "# validation_window is the number of months to validate the models \n",
    "# and select for trading\n",
    "rebalance_window = 63\n",
    "validation_window = 63"
   ]
  },
  {
   "cell_type": "code",
   "execution_count": null,
   "id": "458895df",
   "metadata": {},
   "outputs": [],
   "source": [
    "models.run_ensemble_strategy(df = data, \n",
    "                             unique_trade_date = unique_trade_date, \n",
    "                             rebalance_window = rebalance_window, \n",
    "                             validation_window = validation_window)"
   ]
  },
  {
   "cell_type": "markdown",
   "id": "a97b2f67",
   "metadata": {},
   "source": [
    "# Put all Trade Results Together"
   ]
  },
  {
   "cell_type": "code",
   "execution_count": null,
   "id": "2330a77c",
   "metadata": {},
   "outputs": [],
   "source": [
    "import os\n",
    "file_list = os.listdir('results')"
   ]
  },
  {
   "cell_type": "code",
   "execution_count": null,
   "id": "ae078c68",
   "metadata": {},
   "outputs": [],
   "source": []
  },
  {
   "cell_type": "code",
   "execution_count": null,
   "id": "4a988626",
   "metadata": {},
   "outputs": [],
   "source": [
    "file_list = [file for file in file_list if ('account_value_trade' in file) & ('csv' in file)]"
   ]
  },
  {
   "cell_type": "code",
   "execution_count": null,
   "id": "5bc00ef6",
   "metadata": {},
   "outputs": [],
   "source": [
    "file_list.sort()\n",
    "test = [file.split('.') for file in file_list]\n",
    "test = [file[0].split('_') for file in test]\n",
    "test = [file[4] for file in test]\n",
    "test = [int(file) for file in test]"
   ]
  },
  {
   "cell_type": "code",
   "execution_count": null,
   "id": "5f2caa32",
   "metadata": {},
   "outputs": [],
   "source": [
    "files = pd.DataFrame({'file_name':file_list, 'file_number':test})\n",
    "files = files.sort_values('file_number')"
   ]
  },
  {
   "cell_type": "code",
   "execution_count": null,
   "id": "9d8901f1",
   "metadata": {},
   "outputs": [],
   "source": [
    "results_df = pd.DataFrame()\n",
    "for file in files['file_name']:\n",
    "    if 'account_value_trade' in str(file):\n",
    "        if 'csv' in str(file):\n",
    "            temp_df = pd.read_csv('results/' + file)\n",
    "            results_df = results_df.append(temp_df)"
   ]
  },
  {
   "cell_type": "code",
   "execution_count": null,
   "id": "fd5c1b6c",
   "metadata": {},
   "outputs": [],
   "source": [
    "results_df.drop(results_df.columns[0], axis=1, inplace=True)\n",
    "results_df.columns = ['Portfolio_Value']"
   ]
  },
  {
   "cell_type": "code",
   "execution_count": null,
   "id": "62b9d591",
   "metadata": {},
   "outputs": [],
   "source": [
    "results_df = results_df.reset_index(drop=True)\n",
    "trade_dates = data[(data['date'] > '2009-12-11') & (data['date'] <= '2020-11-26')]['date'].unique()"
   ]
  },
  {
   "cell_type": "code",
   "execution_count": null,
   "id": "6de740b0",
   "metadata": {},
   "outputs": [],
   "source": [
    "plt.clf()\n",
    "sns.lineplot(x=trade_dates, y=results_df[results_df.columns[0]])\n",
    "plt.savefig('total_results_plot.png')"
   ]
  },
  {
   "cell_type": "code",
   "execution_count": null,
   "id": "a9acfc01",
   "metadata": {},
   "outputs": [],
   "source": []
  }
 ],
 "metadata": {
  "kernelspec": {
   "display_name": "Python 3",
   "language": "python",
   "name": "python3"
  },
  "language_info": {
   "codemirror_mode": {
    "name": "ipython",
    "version": 3
   },
   "file_extension": ".py",
   "mimetype": "text/x-python",
   "name": "python",
   "nbconvert_exporter": "python",
   "pygments_lexer": "ipython3",
   "version": "3.7.10"
  }
 },
 "nbformat": 4,
 "nbformat_minor": 5
}
