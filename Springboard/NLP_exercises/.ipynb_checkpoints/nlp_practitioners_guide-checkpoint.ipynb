{
 "cells": [
  {
   "cell_type": "markdown",
   "id": "historic-stock",
   "metadata": {},
   "source": [
    "# A Practitioner's Guide to Natural Language Processing (Part 1) - Processing & Understanding Text\n",
    "\n",
    "This notebook follows along with the article of the same name by Dipanjan (DJ) Sarkar, available at https://towardsdatascience.com/a-practitioners-guide-to-natural-language-processing-part-i-processing-understanding-text-9f4abfd13e72\n"
   ]
  },
  {
   "cell_type": "markdown",
   "id": "african-temple",
   "metadata": {},
   "source": [
    "## NLP Workflow\n",
    "\n",
    "A standardized workflow for NLP tasks is:\n",
    "\n",
    "1. Start with Text Documents\n",
    "2. Text pre-processing\n",
    "3. Text parsing and EDA\n",
    "4. Text represenation & Feature Engineering\n",
    "5. Modelling and/or Pattern Mining\n",
    "6. Evaluation and Deployment\n",
    "\n",
    "In this case, we will build a web-scraper to get the Text Documents to start with."
   ]
  },
  {
   "cell_type": "markdown",
   "id": "controlled-means",
   "metadata": {},
   "source": [
    "## Web-Scraper\n",
    "\n",
    "We are going to use a web-scraper to capture the short news articles from inshots.com\n",
    "\n",
    "We will use the `requests` library to get the html code and the `BeautifulSoup` library to extract the text data."
   ]
  },
  {
   "cell_type": "code",
   "execution_count": 2,
   "id": "prepared-chile",
   "metadata": {},
   "outputs": [],
   "source": [
    "import requests\n",
    "from bs4 import BeautifulSoup\n",
    "import pandas as pd\n",
    "import numpy as np\n",
    "import matplotlib.pyplot as plt\n",
    "import seaborn as sns\n",
    "import os\n",
    "\n",
    "%matplotlib inline"
   ]
  },
  {
   "cell_type": "code",
   "execution_count": 11,
   "id": "afraid-lambda",
   "metadata": {},
   "outputs": [],
   "source": [
    "seed_urls = ['https://inshorts.com/en/read/technology',\n",
    "             'https://inshorts.com/en/read/sports',\n",
    "             'https://inshorts.com/en/read/world']\n",
    "\n",
    "def build_dataset(seed_urls):\n",
    "    news_data = []\n",
    "    for url in seed_urls:\n",
    "        news_category = url.split('/')[-1]\n",
    "        data = requests.get(url)\n",
    "        soup = BeautifulSoup(data.content, 'html.parser')\n",
    "        \n",
    "        news_articles = [{'news_headline': headline.find('span',\n",
    "                                                        attrs={\"itemprop\":\"headline\"}).string,\n",
    "                          'news_article' : article.find('div',\n",
    "                                                        attrs = {\"itemprop\":\"articleBody\"}).string,\n",
    "                          'news_category' : news_category\n",
    "                         }\n",
    "                        \n",
    "                        for headline, article in zip(soup.find_all('div',\n",
    "                                                                   class_ = [\"news-card-title news-right-box\"]),\n",
    "                                                     soup.find_all('div',\n",
    "                                                                   class_ = ['news-card-content news-right-box'])\n",
    "                                                    ) \n",
    "                        ]\n",
    "        news_data.extend(news_articles)\n",
    "    df = pd.DataFrame(news_data)\n",
    "    df = df[['news_headline', 'news_article', 'news_category']]\n",
    "    return df"
   ]
  },
  {
   "cell_type": "code",
   "execution_count": 12,
   "id": "junior-fellow",
   "metadata": {},
   "outputs": [
    {
     "data": {
      "text/html": [
       "<div>\n",
       "<style scoped>\n",
       "    .dataframe tbody tr th:only-of-type {\n",
       "        vertical-align: middle;\n",
       "    }\n",
       "\n",
       "    .dataframe tbody tr th {\n",
       "        vertical-align: top;\n",
       "    }\n",
       "\n",
       "    .dataframe thead th {\n",
       "        text-align: right;\n",
       "    }\n",
       "</style>\n",
       "<table border=\"1\" class=\"dataframe\">\n",
       "  <thead>\n",
       "    <tr style=\"text-align: right;\">\n",
       "      <th></th>\n",
       "      <th>news_headline</th>\n",
       "      <th>news_article</th>\n",
       "      <th>news_category</th>\n",
       "    </tr>\n",
       "  </thead>\n",
       "  <tbody>\n",
       "    <tr>\n",
       "      <th>0</th>\n",
       "      <td>Imtiaz Ali shares his experience with OPPO Ren...</td>\n",
       "      <td>Film director Imtiaz Ali has come together wit...</td>\n",
       "      <td>technology</td>\n",
       "    </tr>\n",
       "    <tr>\n",
       "      <th>1</th>\n",
       "      <td>Dogecoin's biggest holder owns 28% of crypto v...</td>\n",
       "      <td>The world's biggest holder of Dogecoin owns 28...</td>\n",
       "      <td>technology</td>\n",
       "    </tr>\n",
       "    <tr>\n",
       "      <th>2</th>\n",
       "      <td>Facebook's news ban arrogant and disappointing...</td>\n",
       "      <td>After Facebook blocked users from sharing or v...</td>\n",
       "      <td>technology</td>\n",
       "    </tr>\n",
       "    <tr>\n",
       "      <th>3</th>\n",
       "      <td>Facebook blocks users from viewing or sharing ...</td>\n",
       "      <td>Facebook has blocked Australian users from sha...</td>\n",
       "      <td>technology</td>\n",
       "    </tr>\n",
       "    <tr>\n",
       "      <th>4</th>\n",
       "      <td>Life-size demo house 3D printed within 8 days ...</td>\n",
       "      <td>Construction firm SQ4D 3D printed a life-size ...</td>\n",
       "      <td>technology</td>\n",
       "    </tr>\n",
       "    <tr>\n",
       "      <th>5</th>\n",
       "      <td>Traders' body seeks ban on Amazon after report...</td>\n",
       "      <td>The Confederation of All India Traders (CAIT) ...</td>\n",
       "      <td>technology</td>\n",
       "    </tr>\n",
       "    <tr>\n",
       "      <th>6</th>\n",
       "      <td>Facebook bans its own Facebook page while bloc...</td>\n",
       "      <td>Facebook banned its own page on the social med...</td>\n",
       "      <td>technology</td>\n",
       "    </tr>\n",
       "    <tr>\n",
       "      <th>7</th>\n",
       "      <td>Have complied with Indian laws: Amazon rejects...</td>\n",
       "      <td>Amazon on Thursday said the Reuters story, whi...</td>\n",
       "      <td>technology</td>\n",
       "    </tr>\n",
       "    <tr>\n",
       "      <th>8</th>\n",
       "      <td>Bitcoin surges past $51,000 for the first time</td>\n",
       "      <td>The world's largest cryptocurrency Bitcoin on ...</td>\n",
       "      <td>technology</td>\n",
       "    </tr>\n",
       "    <tr>\n",
       "      <th>9</th>\n",
       "      <td>Why has Facebook blocked Australian users from...</td>\n",
       "      <td>Facebook has blocked Australian users and publ...</td>\n",
       "      <td>technology</td>\n",
       "    </tr>\n",
       "  </tbody>\n",
       "</table>\n",
       "</div>"
      ],
      "text/plain": [
       "                                       news_headline  \\\n",
       "0  Imtiaz Ali shares his experience with OPPO Ren...   \n",
       "1  Dogecoin's biggest holder owns 28% of crypto v...   \n",
       "2  Facebook's news ban arrogant and disappointing...   \n",
       "3  Facebook blocks users from viewing or sharing ...   \n",
       "4  Life-size demo house 3D printed within 8 days ...   \n",
       "5  Traders' body seeks ban on Amazon after report...   \n",
       "6  Facebook bans its own Facebook page while bloc...   \n",
       "7  Have complied with Indian laws: Amazon rejects...   \n",
       "8     Bitcoin surges past $51,000 for the first time   \n",
       "9  Why has Facebook blocked Australian users from...   \n",
       "\n",
       "                                        news_article news_category  \n",
       "0  Film director Imtiaz Ali has come together wit...    technology  \n",
       "1  The world's biggest holder of Dogecoin owns 28...    technology  \n",
       "2  After Facebook blocked users from sharing or v...    technology  \n",
       "3  Facebook has blocked Australian users from sha...    technology  \n",
       "4  Construction firm SQ4D 3D printed a life-size ...    technology  \n",
       "5  The Confederation of All India Traders (CAIT) ...    technology  \n",
       "6  Facebook banned its own page on the social med...    technology  \n",
       "7  Amazon on Thursday said the Reuters story, whi...    technology  \n",
       "8  The world's largest cryptocurrency Bitcoin on ...    technology  \n",
       "9  Facebook has blocked Australian users and publ...    technology  "
      ]
     },
     "execution_count": 12,
     "metadata": {},
     "output_type": "execute_result"
    }
   ],
   "source": [
    "news_df = build_dataset(seed_urls)\n",
    "news_df.head(10)"
   ]
  },
  {
   "cell_type": "code",
   "execution_count": 13,
   "id": "included-conspiracy",
   "metadata": {},
   "outputs": [
    {
     "data": {
      "text/plain": [
       "world         25\n",
       "technology    25\n",
       "sports        25\n",
       "Name: news_category, dtype: int64"
      ]
     },
     "execution_count": 13,
     "metadata": {},
     "output_type": "execute_result"
    }
   ],
   "source": [
    "news_df.news_category.value_counts()"
   ]
  },
  {
   "cell_type": "markdown",
   "id": "facial-cisco",
   "metadata": {},
   "source": [
    "Now that we have the Text Documents, we can move on to the first step of the actual analysis; Text Pre-Processing.\n",
    "\n",
    "## Text Wrangling & Pre-Processing"
   ]
  },
  {
   "cell_type": "markdown",
   "id": "missing-springfield",
   "metadata": {},
   "source": [
    "We are going to be using `nltk` and `spacy`, because they are quite powerful and relatively easy to use."
   ]
  },
  {
   "cell_type": "code",
   "execution_count": 29,
   "id": "yellow-jesus",
   "metadata": {},
   "outputs": [],
   "source": [
    "import spacy\n",
    "import nltk\n",
    "from nltk.tokenize.toktok import ToktokTokenizer\n",
    "import re\n",
    "import unicodedata\n",
    "from contractions import CONTRACTION_MAP"
   ]
  },
  {
   "cell_type": "code",
   "execution_count": 22,
   "id": "suspected-weekly",
   "metadata": {},
   "outputs": [],
   "source": [
    "nlp = spacy.load('en_core_web_sm')\n",
    "tokenizer = ToktokTokenizer()\n",
    "\n",
    "stopword_list = nltk.corpus.stopwords.words('english')\n",
    "stopword_list.remove('no')\n",
    "stopword_list.remove('not')"
   ]
  },
  {
   "cell_type": "markdown",
   "id": "pending-gibraltar",
   "metadata": {},
   "source": [
    "#### Remove HTML tags"
   ]
  },
  {
   "cell_type": "code",
   "execution_count": 24,
   "id": "separated-oklahoma",
   "metadata": {},
   "outputs": [
    {
     "data": {
      "text/plain": [
       "'Some important text'"
      ]
     },
     "execution_count": 24,
     "metadata": {},
     "output_type": "execute_result"
    }
   ],
   "source": [
    "def strip_html_tags(text):\n",
    "    soup = BeautifulSoup(text, \"html.parser\")\n",
    "    stripped_text = soup.get_text()\n",
    "    return stripped_text\n",
    "\n",
    "strip_html_tags('<html><h2>Some important text</h2></html>')"
   ]
  },
  {
   "cell_type": "markdown",
   "id": "worldwide-ottawa",
   "metadata": {},
   "source": [
    "#### Remove accents"
   ]
  },
  {
   "cell_type": "code",
   "execution_count": 28,
   "id": "illegal-culture",
   "metadata": {},
   "outputs": [],
   "source": [
    "def remove_accented_characters(text):\n",
    "    text = unicodedata.normalize('NFKD', text).encode('ascii', 'ignore').decode('utf-8', 'ignore')\n",
    "    return text"
   ]
  },
  {
   "cell_type": "markdown",
   "id": "explicit-entertainment",
   "metadata": {},
   "source": [
    "#### Expand contractions"
   ]
  },
  {
   "cell_type": "code",
   "execution_count": 31,
   "id": "corresponding-composer",
   "metadata": {},
   "outputs": [],
   "source": [
    "def expand_contractions(text, contraction_mapping=CONTRACTION_MAP):\n",
    "    contractions_pattern = re.compile('({})'.format('|'.join(contraction_mapping.keys())),\n",
    "                                     flags = re.IGNORECASE|re.DOTALL)\n",
    "    \n",
    "    def expand_match(contraction):\n",
    "        match = contraction.group(0)\n",
    "        first_char = match[0]\n",
    "        expanded_contraction = contraction_mapping.get(match) if contraction_mapping.get(match) else contraction_mapping.get(match.lower())\n",
    "        expanded_contraction = first_char + expanded_contraction[1:]\n",
    "        return expanded_contraction\n",
    "    \n",
    "    expanded_text = contractions_pattern.sub(expand_match, text)\n",
    "    expanded_text = re.sub(\"'\", \"\", expanded_text)\n",
    "    \n",
    "    return expanded_text"
   ]
  },
  {
   "cell_type": "markdown",
   "id": "military-replacement",
   "metadata": {},
   "source": [
    "#### Remove special characters"
   ]
  },
  {
   "cell_type": "code",
   "execution_count": 33,
   "id": "subtle-marshall",
   "metadata": {},
   "outputs": [],
   "source": [
    "def remove_special_characters(text, remove_digits=False):\n",
    "    pattern = r'[^a-zA-Z0-9\\s]' if not remove_digits else r'[^a-zA-Z\\s]'\n",
    "    text = re.sub(pattern, '', text)\n",
    "    return text"
   ]
  },
  {
   "cell_type": "markdown",
   "id": "olive-triumph",
   "metadata": {},
   "source": [
    "### Stemming\n",
    "\n",
    "Stemming takes an inflected word and removes the affixes, leaving the base word behind. For example, \"jump[s]\", \"jump[ing]\", and \"jump[ed]\" all have the same base word, \"jump\".\n",
    "\n",
    "Stemming can help the natural language processor to understand the meaning of a phrase by standardizing words, but stemmed words result in root stems which may not be semantically correct, which means they may not appear in an NLP dictionary and therefore may be harder to interpret as well. \n",
    "\n",
    "NLTK has a function that enacts the `PorterStemmer`, awell-known stemming algorithm created by Dr. Martin Porter in 1980. "
   ]
  },
  {
   "cell_type": "code",
   "execution_count": 36,
   "id": "massive-treat",
   "metadata": {},
   "outputs": [],
   "source": [
    "def simple_stemmer(text):\n",
    "    ps = nltk.porter.PorterStemmer()\n",
    "    text = ' '.join([ps.stem(word) for word in text.split()])\n",
    "    return text"
   ]
  },
  {
   "cell_type": "code",
   "execution_count": 37,
   "id": "progressive-tokyo",
   "metadata": {},
   "outputs": [
    {
     "data": {
      "text/plain": [
       "'My system keep crash hi crash yesterday, our crash daili'"
      ]
     },
     "execution_count": 37,
     "metadata": {},
     "output_type": "execute_result"
    }
   ],
   "source": [
    "simple_stemmer(\"My system keeps crashing his crashed yesterday, ours crashes daily\")"
   ]
  },
  {
   "cell_type": "markdown",
   "id": "bizarre-burning",
   "metadata": {},
   "source": [
    "### Lemmatization\n",
    "\n",
    "Similar to stemming, lemmatization removes the affixes from words; the big difference is that the output of lemmatization, called the root word rather than the root stem, is always a semantically correct word. The root word will always be a real word, the kind that is found in NLP dictionaries. The downside is that lemmatization is much slower than stemming.\n",
    "\n",
    "NLTK and SpaCy both have built-in and easy-to-use lemmatizers."
   ]
  },
  {
   "cell_type": "code",
   "execution_count": 38,
   "id": "dedicated-integrity",
   "metadata": {},
   "outputs": [],
   "source": [
    "def lemmatize_text(text):\n",
    "    text = nlp(text)\n",
    "    text = ' '.join([word.lemma_ if word.lemma_ != '-PRON-' else word.text for word in text])\n",
    "    return text"
   ]
  },
  {
   "cell_type": "code",
   "execution_count": 39,
   "id": "former-lecture",
   "metadata": {},
   "outputs": [
    {
     "data": {
      "text/plain": [
       "'my system keep crash ! his crashed yesterday , ours crash daily'"
      ]
     },
     "execution_count": 39,
     "metadata": {},
     "output_type": "execute_result"
    }
   ],
   "source": [
    "lemmatize_text(\"My system keeps crashing! his crashed yesterday, ours crashes daily\")"
   ]
  },
  {
   "cell_type": "markdown",
   "id": "ruled-stereo",
   "metadata": {},
   "source": [
    "### Removing Stopwords\n",
    "\n",
    "There are a lot of words in English that are important syntactically but carry little meaning. \"the\" is one such word. If we remove the word \"the\" from a sentence, the sentence is still understandable. Here is an example.\n",
    "\n",
    "\"The quick fox jumped over the lazy brown dog.\"\n",
    "\"Quick fox jumped over lazy brown dog.\" \n",
    "\n",
    "Stopwords tend to have very high frequencies in corpora and make algorithms more difficult to deal with later, so it is best to remove them. \n",
    "\n",
    "NLTK has a standard english stopword list, but there is no universally effective stopword list."
   ]
  },
  {
   "cell_type": "code",
   "execution_count": 40,
   "id": "studied-investigator",
   "metadata": {},
   "outputs": [],
   "source": [
    "def remove_stopwords(text, is_lower_case=False):\n",
    "    tokens = tokenizer.tokenize(text)\n",
    "    tokens = [token.strip() for token in tokens]\n",
    "    \n",
    "    if is_lower_case:\n",
    "        filtered_tokens = [token for token in tokens if token not in stopword_list]\n",
    "    else:\n",
    "        filtered_tokens = [token for token in tokens if token.lower() not in stopword_list]\n",
    "        \n",
    "    filtered_text = ' '.join(filtered_tokens)\n",
    "    return filtered_text"
   ]
  },
  {
   "cell_type": "code",
   "execution_count": 41,
   "id": "brave-beads",
   "metadata": {},
   "outputs": [
    {
     "data": {
      "text/plain": [
       "', , stopwords , computer not'"
      ]
     },
     "execution_count": 41,
     "metadata": {},
     "output_type": "execute_result"
    }
   ],
   "source": [
    "remove_stopwords(\"The, and, if are stopwords, computer is not\")"
   ]
  },
  {
   "cell_type": "markdown",
   "id": "respected-metallic",
   "metadata": {},
   "source": [
    "## Build a Text Normalizer\n",
    "\n",
    "Now that we have all of those functions, we can write one mother-function that takes in unstructured text and completely normalizes it into a form we can use for modeling. \n",
    "\n",
    "We want this function to be pretty flexible, so it can be used in pretty much any NLP situation."
   ]
  },
  {
   "cell_type": "code",
   "execution_count": 46,
   "id": "square-island",
   "metadata": {},
   "outputs": [],
   "source": [
    "def normalize_corpus(corpus, html_stripping=True, contraction_expansion=True,\n",
    "                     accented_char_removal=True, text_lower_case=True,\n",
    "                     text_lemmatization=True, special_char_removal=True,\n",
    "                     stopword_removal=True, remove_digits=True):\n",
    "    \n",
    "    normalized_corpus = []\n",
    "    \n",
    "    # normalize each document in corpus\n",
    "    for doc in corpus:\n",
    "        \n",
    "        #strip html\n",
    "        if html_stripping:\n",
    "            doc = strip_html_tags(doc)\n",
    "            \n",
    "        #remove accents\n",
    "        if accented_char_removal:\n",
    "            doc = remove_accented_characters(doc)\n",
    "            \n",
    "        #expand contractions\n",
    "        if contraction_expansion:\n",
    "            doc = expand_contractions(doc)\n",
    "            \n",
    "        #lower-case the text\n",
    "        if text_lower_case:\n",
    "            doc = doc.lower()\n",
    "            \n",
    "        #remove empty lines\n",
    "        doc = re.sub(r'[\\r|\\n|\\r\\n]+', ' ', doc)\n",
    "        \n",
    "        #lemmatize text\n",
    "        if text_lemmatization:\n",
    "            doc = lemmatize_text(doc)\n",
    "            \n",
    "        #remove special characters and/or digits\n",
    "        if special_char_removal:\n",
    "            special_char_pattern = re.compile(r'([{.(-)!}])')\n",
    "            doc = special_char_pattern.sub(\" \\\\1 \", doc)\n",
    "            doc = remove_special_characters(doc, remove_digits=remove_digits)\n",
    "            \n",
    "        #remove extra whitespace\n",
    "        doc = re.sub(' +', ' ', doc)\n",
    "        \n",
    "        #remove stopwords\n",
    "        if stopword_removal:\n",
    "            doc = remove_stopwords(doc, is_lower_case=text_lower_case)\n",
    "            \n",
    "        #append to normalized_corpus\n",
    "        normalized_corpus.append(doc)\n",
    "        \n",
    "    return normalized_corpus\n"
   ]
  },
  {
   "cell_type": "markdown",
   "id": "extreme-advertiser",
   "metadata": {},
   "source": [
    "Before we normalize, we want to put all of the text of the articles together; this means combining the headline with the rest of the article."
   ]
  },
  {
   "cell_type": "code",
   "execution_count": 47,
   "id": "owned-specific",
   "metadata": {},
   "outputs": [
    {
     "data": {
      "text/plain": [
       "{'full_text': 'Dogecoin\\'s biggest holder owns 28% of crypto valued at $2.1 billion: Report. The world\\'s biggest holder of Dogecoin owns 28% of the cryptocurrency in circulation and his position is worth $2.1 billion, according to a Wall Street Journal report. However, the identity of the person or entity is not known. The cryptocurrency, which was created based on a \"doge\" meme, recently hit market capitalisation of $10 billion amid a Reddit-driven rally.',\n",
       " 'clean_text': 'dogecoin big holder crypto value billion report world big holder dogecoin cryptocurrency circulation position worth billion accord wall street journal report however identity person entity not know cryptocurrency create base doge meme recently hit market capitalisation billion amid reddit drive rally'}"
      ]
     },
     "execution_count": 47,
     "metadata": {},
     "output_type": "execute_result"
    }
   ],
   "source": [
    "#Combine headlines with article text\n",
    "news_df['full_text'] = news_df[\"news_headline\"].map(str) + '. ' + news_df[\"news_article\"]\n",
    "\n",
    "#Normalize corpus!\n",
    "news_df['clean_text'] = normalize_corpus(news_df['full_text'])\n",
    "norm_corpus = list(news_df['clean_text'])\n",
    "\n",
    "#Check a sample\n",
    "news_df.iloc[1][['full_text', 'clean_text']].to_dict()"
   ]
  },
  {
   "cell_type": "code",
   "execution_count": 48,
   "id": "centered-xerox",
   "metadata": {},
   "outputs": [],
   "source": [
    "## Save news_df to disk.\n",
    "news_df.to_csv('news.csv', index=False, encoding='utf-8')"
   ]
  },
  {
   "cell_type": "markdown",
   "id": "specified-symphony",
   "metadata": {},
   "source": [
    "# LOAD DATA HERE IF NEEDED"
   ]
  },
  {
   "cell_type": "code",
   "execution_count": 49,
   "id": "choice-shanghai",
   "metadata": {},
   "outputs": [],
   "source": [
    "#Load news_df\n",
    "#news_df = pd.read_csv('news.csv')"
   ]
  },
  {
   "cell_type": "markdown",
   "id": "apparent-china",
   "metadata": {},
   "source": [
    "## Language Syntax and Structure\n",
    "\n",
    "Words have meaning, sure, but the meaning of a phrase is more than the sum of the meaning of its words. Similarly, the meaning of a sentence is more complex than the meaning of its phrases. And so on to the meaning of paragraphs and documents. Therefore, it is important not only to understand words, but to parse the syntax of those words.\n",
    "\n",
    "There are several ways to handle this, including Part of Speech (POS) Tagging, Shallow Parsing (Chunking), Constituency Parsing, and Dependency Parsing. We will walk through each of these."
   ]
  },
  {
   "cell_type": "markdown",
   "id": "unlike-cheat",
   "metadata": {},
   "source": [
    "### Parts of Speech Tagging\n",
    "\n",
    "Parts of Speech Tagging means identifying each word as a N(oun), V(erb), Adj(ective), Adv(erb), and so on. More advanced POS taggers can go so far as to identify singular nouns as (NN), plural nouns as (NNS), and singular proper nouns as (NNP).\n",
    "\n",
    "We will compare POS Taggers from both NLTK and SpaCy."
   ]
  },
  {
   "cell_type": "code",
   "execution_count": 50,
   "id": "blind-atlantic",
   "metadata": {},
   "outputs": [],
   "source": [
    "# create pre-processed corpus WITHOUT lemmatization or lower-casing.\n",
    "corpus = normalize_corpus(news_df['full_text'], text_lower_case=False,\n",
    "                          text_lemmatization=False, \n",
    "                          special_char_removal=False)"
   ]
  },
  {
   "cell_type": "code",
   "execution_count": 57,
   "id": "posted-cocktail",
   "metadata": {},
   "outputs": [
    {
     "data": {
      "text/html": [
       "<div>\n",
       "<style scoped>\n",
       "    .dataframe tbody tr th:only-of-type {\n",
       "        vertical-align: middle;\n",
       "    }\n",
       "\n",
       "    .dataframe tbody tr th {\n",
       "        vertical-align: top;\n",
       "    }\n",
       "\n",
       "    .dataframe thead th {\n",
       "        text-align: right;\n",
       "    }\n",
       "</style>\n",
       "<table border=\"1\" class=\"dataframe\">\n",
       "  <thead>\n",
       "    <tr style=\"text-align: right;\">\n",
       "      <th></th>\n",
       "      <th>Word</th>\n",
       "      <th>POS Tag</th>\n",
       "      <th>Tag Type</th>\n",
       "    </tr>\n",
       "  </thead>\n",
       "  <tbody>\n",
       "    <tr>\n",
       "      <th>0</th>\n",
       "      <td>Dogecoin</td>\n",
       "      <td>NNP</td>\n",
       "      <td>PROPN</td>\n",
       "    </tr>\n",
       "    <tr>\n",
       "      <th>1</th>\n",
       "      <td>'s</td>\n",
       "      <td>POS</td>\n",
       "      <td>PART</td>\n",
       "    </tr>\n",
       "    <tr>\n",
       "      <th>2</th>\n",
       "      <td>biggest</td>\n",
       "      <td>JJS</td>\n",
       "      <td>ADJ</td>\n",
       "    </tr>\n",
       "    <tr>\n",
       "      <th>3</th>\n",
       "      <td>holder</td>\n",
       "      <td>NN</td>\n",
       "      <td>NOUN</td>\n",
       "    </tr>\n",
       "    <tr>\n",
       "      <th>4</th>\n",
       "      <td>owns</td>\n",
       "      <td>VBZ</td>\n",
       "      <td>VERB</td>\n",
       "    </tr>\n",
       "    <tr>\n",
       "      <th>5</th>\n",
       "      <td>28</td>\n",
       "      <td>CD</td>\n",
       "      <td>NUM</td>\n",
       "    </tr>\n",
       "    <tr>\n",
       "      <th>6</th>\n",
       "      <td>%</td>\n",
       "      <td>NN</td>\n",
       "      <td>NOUN</td>\n",
       "    </tr>\n",
       "    <tr>\n",
       "      <th>7</th>\n",
       "      <td>of</td>\n",
       "      <td>IN</td>\n",
       "      <td>ADP</td>\n",
       "    </tr>\n",
       "    <tr>\n",
       "      <th>8</th>\n",
       "      <td>crypto</td>\n",
       "      <td>NN</td>\n",
       "      <td>NOUN</td>\n",
       "    </tr>\n",
       "    <tr>\n",
       "      <th>9</th>\n",
       "      <td>valued</td>\n",
       "      <td>VBN</td>\n",
       "      <td>VERB</td>\n",
       "    </tr>\n",
       "    <tr>\n",
       "      <th>10</th>\n",
       "      <td>at</td>\n",
       "      <td>IN</td>\n",
       "      <td>ADP</td>\n",
       "    </tr>\n",
       "    <tr>\n",
       "      <th>11</th>\n",
       "      <td>$</td>\n",
       "      <td>$</td>\n",
       "      <td>SYM</td>\n",
       "    </tr>\n",
       "    <tr>\n",
       "      <th>12</th>\n",
       "      <td>2.1</td>\n",
       "      <td>CD</td>\n",
       "      <td>NUM</td>\n",
       "    </tr>\n",
       "    <tr>\n",
       "      <th>13</th>\n",
       "      <td>billion</td>\n",
       "      <td>CD</td>\n",
       "      <td>NUM</td>\n",
       "    </tr>\n",
       "    <tr>\n",
       "      <th>14</th>\n",
       "      <td>:</td>\n",
       "      <td>:</td>\n",
       "      <td>PUNCT</td>\n",
       "    </tr>\n",
       "    <tr>\n",
       "      <th>15</th>\n",
       "      <td>Report</td>\n",
       "      <td>VB</td>\n",
       "      <td>VERB</td>\n",
       "    </tr>\n",
       "  </tbody>\n",
       "</table>\n",
       "</div>"
      ],
      "text/plain": [
       "        Word POS Tag Tag Type\n",
       "0   Dogecoin     NNP    PROPN\n",
       "1         's     POS     PART\n",
       "2    biggest     JJS      ADJ\n",
       "3     holder      NN     NOUN\n",
       "4       owns     VBZ     VERB\n",
       "5         28      CD      NUM\n",
       "6          %      NN     NOUN\n",
       "7         of      IN      ADP\n",
       "8     crypto      NN     NOUN\n",
       "9     valued     VBN     VERB\n",
       "10        at      IN      ADP\n",
       "11         $       $      SYM\n",
       "12       2.1      CD      NUM\n",
       "13   billion      CD      NUM\n",
       "14         :       :    PUNCT\n",
       "15    Report      VB     VERB"
      ]
     },
     "execution_count": 57,
     "metadata": {},
     "output_type": "execute_result"
    }
   ],
   "source": [
    "#Grab one sentence to compare NLTK to SpaCy\n",
    "sentence = str(news_df.iloc[1].news_headline)\n",
    "sentence_nlp = nlp(sentence) # <- this part is from SpaCy\n",
    "\n",
    "# POS Tagging with SpaCy\n",
    "space_pos_tagged = [(word, word.tag_, word.pos_) for word in sentence_nlp]\n",
    "pd.DataFrame(space_pos_tagged, columns=['Word', 'POS Tag', 'Tag Type'])"
   ]
  },
  {
   "cell_type": "code",
   "execution_count": 58,
   "id": "thick-compromise",
   "metadata": {},
   "outputs": [
    {
     "data": {
      "text/html": [
       "<div>\n",
       "<style scoped>\n",
       "    .dataframe tbody tr th:only-of-type {\n",
       "        vertical-align: middle;\n",
       "    }\n",
       "\n",
       "    .dataframe tbody tr th {\n",
       "        vertical-align: top;\n",
       "    }\n",
       "\n",
       "    .dataframe thead th {\n",
       "        text-align: right;\n",
       "    }\n",
       "</style>\n",
       "<table border=\"1\" class=\"dataframe\">\n",
       "  <thead>\n",
       "    <tr style=\"text-align: right;\">\n",
       "      <th></th>\n",
       "      <th>Word</th>\n",
       "      <th>POS Tag</th>\n",
       "    </tr>\n",
       "  </thead>\n",
       "  <tbody>\n",
       "    <tr>\n",
       "      <th>0</th>\n",
       "      <td>Dogecoin's</td>\n",
       "      <td>NNP</td>\n",
       "    </tr>\n",
       "    <tr>\n",
       "      <th>1</th>\n",
       "      <td>biggest</td>\n",
       "      <td>JJS</td>\n",
       "    </tr>\n",
       "    <tr>\n",
       "      <th>2</th>\n",
       "      <td>holder</td>\n",
       "      <td>NN</td>\n",
       "    </tr>\n",
       "    <tr>\n",
       "      <th>3</th>\n",
       "      <td>owns</td>\n",
       "      <td>VBZ</td>\n",
       "    </tr>\n",
       "    <tr>\n",
       "      <th>4</th>\n",
       "      <td>28%</td>\n",
       "      <td>CD</td>\n",
       "    </tr>\n",
       "    <tr>\n",
       "      <th>5</th>\n",
       "      <td>of</td>\n",
       "      <td>IN</td>\n",
       "    </tr>\n",
       "    <tr>\n",
       "      <th>6</th>\n",
       "      <td>crypto</td>\n",
       "      <td>NN</td>\n",
       "    </tr>\n",
       "    <tr>\n",
       "      <th>7</th>\n",
       "      <td>valued</td>\n",
       "      <td>VBN</td>\n",
       "    </tr>\n",
       "    <tr>\n",
       "      <th>8</th>\n",
       "      <td>at</td>\n",
       "      <td>IN</td>\n",
       "    </tr>\n",
       "    <tr>\n",
       "      <th>9</th>\n",
       "      <td>$2.1</td>\n",
       "      <td>NNP</td>\n",
       "    </tr>\n",
       "    <tr>\n",
       "      <th>10</th>\n",
       "      <td>billion:</td>\n",
       "      <td>FW</td>\n",
       "    </tr>\n",
       "    <tr>\n",
       "      <th>11</th>\n",
       "      <td>Report</td>\n",
       "      <td>NNP</td>\n",
       "    </tr>\n",
       "  </tbody>\n",
       "</table>\n",
       "</div>"
      ],
      "text/plain": [
       "          Word POS Tag\n",
       "0   Dogecoin's     NNP\n",
       "1      biggest     JJS\n",
       "2       holder      NN\n",
       "3         owns     VBZ\n",
       "4          28%      CD\n",
       "5           of      IN\n",
       "6       crypto      NN\n",
       "7       valued     VBN\n",
       "8           at      IN\n",
       "9         $2.1     NNP\n",
       "10    billion:      FW\n",
       "11      Report     NNP"
      ]
     },
     "execution_count": 58,
     "metadata": {},
     "output_type": "execute_result"
    }
   ],
   "source": [
    "# POS tagging with NLTK\n",
    "nltk_pos_tagged = nltk.pos_tag(sentence.split())\n",
    "pd.DataFrame(nltk_pos_tagged, columns=['Word', 'POS Tag'])"
   ]
  },
  {
   "cell_type": "markdown",
   "id": "related-albuquerque",
   "metadata": {},
   "source": [
    "SpaCy seems to return much more intricate POS tagging than NLTK. The weird bits are that SpaCy considers '%' to be a noun and NLTK considers $2.1 to be a Proper Noun."
   ]
  },
  {
   "cell_type": "markdown",
   "id": "binary-colorado",
   "metadata": {},
   "source": [
    "### Shallow Parsing (Chunking)\n",
    "\n",
    "Sentences are made up of phrases. Some common phrase types include:\n",
    "\n",
    "* Noun Phrases, which act as subjects or objects to verbs\n",
    "* Verb Phrases, which have verbs as the head. These can either exclude or include nouns, adjectives, and adverbs as objects of the phrase\n",
    "* Adjective Phrases, whose main role is to qualify nouns or pronouns\n",
    "* Adverb Phrases, which act as modifiers to other phrases\n",
    "* Prepositional Phrase, which act *like* adverb or adjective phrases\n",
    "\n",
    "Shallow Parsing, or Chunking, breaks sentences into tokens or words and then groups those tokens into phrases. This includes POS tagging as well.\n",
    "\n",
    "Shallow parsers have to be trained. NLTK contains the `conll2000` which can be used for this task. We will use around 10,000 records to train the model and the rest for testing."
   ]
  },
  {
   "cell_type": "code",
   "execution_count": 66,
   "id": "declared-moldova",
   "metadata": {},
   "outputs": [
    {
     "name": "stdout",
     "output_type": "stream",
     "text": [
      "10900 48\n",
      "(S\n",
      "  Chancellor/NNP\n",
      "  (PP of/IN)\n",
      "  (NP the/DT Exchequer/NNP)\n",
      "  (NP Nigel/NNP Lawson/NNP)\n",
      "  (NP 's/POS restated/VBN commitment/NN)\n",
      "  (PP to/TO)\n",
      "  (NP a/DT firm/NN monetary/JJ policy/NN)\n",
      "  (VP has/VBZ helped/VBN to/TO prevent/VB)\n",
      "  (NP a/DT freefall/NN)\n",
      "  (PP in/IN)\n",
      "  (NP sterling/NN)\n",
      "  (PP over/IN)\n",
      "  (NP the/DT past/JJ week/NN)\n",
      "  ./.)\n"
     ]
    }
   ],
   "source": [
    "from nltk.corpus import conll2000\n",
    "\n",
    "data = conll2000.chunked_sents()\n",
    "train_data = data[:10900]\n",
    "test_data = data[10900:]\n",
    "\n",
    "print(len(train_data), len(test_data))\n",
    "print(train_data[1])"
   ]
  },
  {
   "cell_type": "markdown",
   "id": "technological-citizenship",
   "metadata": {},
   "source": [
    "We will use the `tree2conlltags` function to get the 3-tuples of word, tag, and chunk, from the train_data; then, we will use `conlltags2tree` to generate a parse tree from those tuples. That's how we will train the parser."
   ]
  },
  {
   "cell_type": "code",
   "execution_count": 68,
   "id": "separated-norwegian",
   "metadata": {},
   "outputs": [
    {
     "data": {
      "text/plain": [
       "[('Chancellor', 'NNP', 'O'),\n",
       " ('of', 'IN', 'B-PP'),\n",
       " ('the', 'DT', 'B-NP'),\n",
       " ('Exchequer', 'NNP', 'I-NP'),\n",
       " ('Nigel', 'NNP', 'B-NP'),\n",
       " ('Lawson', 'NNP', 'I-NP'),\n",
       " (\"'s\", 'POS', 'B-NP'),\n",
       " ('restated', 'VBN', 'I-NP'),\n",
       " ('commitment', 'NN', 'I-NP'),\n",
       " ('to', 'TO', 'B-PP'),\n",
       " ('a', 'DT', 'B-NP'),\n",
       " ('firm', 'NN', 'I-NP'),\n",
       " ('monetary', 'JJ', 'I-NP'),\n",
       " ('policy', 'NN', 'I-NP'),\n",
       " ('has', 'VBZ', 'B-VP'),\n",
       " ('helped', 'VBN', 'I-VP'),\n",
       " ('to', 'TO', 'I-VP'),\n",
       " ('prevent', 'VB', 'I-VP'),\n",
       " ('a', 'DT', 'B-NP'),\n",
       " ('freefall', 'NN', 'I-NP'),\n",
       " ('in', 'IN', 'B-PP'),\n",
       " ('sterling', 'NN', 'B-NP'),\n",
       " ('over', 'IN', 'B-PP'),\n",
       " ('the', 'DT', 'B-NP'),\n",
       " ('past', 'JJ', 'I-NP'),\n",
       " ('week', 'NN', 'I-NP'),\n",
       " ('.', '.', 'O')]"
      ]
     },
     "execution_count": 68,
     "metadata": {},
     "output_type": "execute_result"
    }
   ],
   "source": [
    "from nltk.chunk.util import tree2conlltags, conlltags2tree\n",
    "\n",
    "wtc = tree2conlltags(train_data[1])\n",
    "wtc"
   ]
  },
  {
   "cell_type": "markdown",
   "id": "consecutive-alarm",
   "metadata": {},
   "source": [
    "First, the token. Then, the Chunk tag. The last part tells us where in the chunk each word falls. 'O' means that the word doesn't belong in any chunk. 'I-' means that the word is inside a chunk. 'B-' indicates the beginning of a chunk. \n",
    "\n",
    "We want to extract POS and chunk tags from sentences with chunked annotations. We also want to train multiple taggers with backoff taggers."
   ]
  },
  {
   "cell_type": "code",
   "execution_count": 69,
   "id": "australian-waterproof",
   "metadata": {},
   "outputs": [],
   "source": [
    "def conll_tag_chunks(chunk_sents):\n",
    "    tagged_sents = [tree2conlltags(tree) for tree in chunk_sents]\n",
    "    return [[(t,c) for (w,t,c) in sent] for sent in tagged_sents]\n",
    "\n",
    "def combined_tagger(train_data, taggers, backoff=None):\n",
    "    for tagger in taggers:\n",
    "        backoff = tagger(train_data, backoff=backoff)\n",
    "    return backoff"
   ]
  },
  {
   "cell_type": "markdown",
   "id": "finnish-trailer",
   "metadata": {},
   "source": [
    "Now, we will define our chunker and taggers."
   ]
  },
  {
   "cell_type": "code",
   "execution_count": 70,
   "id": "fatty-voice",
   "metadata": {},
   "outputs": [],
   "source": [
    "from nltk.tag import UnigramTagger, BigramTagger\n",
    "from nltk.chunk import ChunkParserI"
   ]
  },
  {
   "cell_type": "code",
   "execution_count": 74,
   "id": "referenced-kingston",
   "metadata": {},
   "outputs": [],
   "source": [
    "class NGramTagChunker(ChunkParserI):\n",
    "    \n",
    "    def __init__(self, train_sentences, tagger_classes=[UnigramTagger, BigramTagger]):\n",
    "    \n",
    "        train_sent_tags = conll_tag_chunks(train_sentences)\n",
    "        self.chunk_tagger = combined_tagger(train_sent_tags, tagger_classes)\n",
    "    \n",
    "    def parse(self, tagged_sentence):\n",
    "        if not tagged_sentence:\n",
    "            return None\n",
    "        pos_tags = [tag for word, tag in tagged_sentence]\n",
    "        chunk_pos_tags = self.chunk_tagger.tag(pos_tags)\n",
    "        chunk_tags = [chunk_tag for (pos_tag, chunk_tag) in chunk_pos_tags]\n",
    "        wpc_tags = [(word, pos_tag, chunk_tag) for ((word, pos_tag), chunk_tag) in zip(tagged_sentence, chunk_tags)]\n",
    "        \n",
    "        return conlltags2tree(wpc_tags)\n"
   ]
  },
  {
   "cell_type": "code",
   "execution_count": 75,
   "id": "twelve-membrane",
   "metadata": {},
   "outputs": [
    {
     "name": "stdout",
     "output_type": "stream",
     "text": [
      "ChunkParse score:\n",
      "    IOB Accuracy:  90.0%%\n",
      "    Precision:     82.1%%\n",
      "    Recall:        86.3%%\n",
      "    F-Measure:     84.1%%\n"
     ]
    }
   ],
   "source": [
    "# train chunker\n",
    "ntc = NGramTagChunker(train_data)\n",
    "\n",
    "# evaluate performance\n",
    "print(ntc.evaluate(test_data))"
   ]
  },
  {
   "cell_type": "markdown",
   "id": "offensive-hygiene",
   "metadata": {},
   "source": [
    "The evaluation metrics of the `NGramChunker` are quite good. Definitely good enough to be used!"
   ]
  },
  {
   "cell_type": "markdown",
   "id": "strong-soccer",
   "metadata": {},
   "source": [
    "### Constituency Parsing\n",
    "\n",
    "This method of syntactic parsing uses *Phrase Structure Rules*, to model the internal structure of sentences as a hierarchically ordered structure. These rules govern the hierarchy and ordering of constituents in the sentence, typically by determining what words are used to construct each phrase and determining how those phrases should be ordered together.\n",
    "\n",
    "Take for example the sentence, \"The quick fox is quick\". \n",
    "\n",
    "Let's say this sentence follows the structure: $S\\to AB$. We want to split this sentence into two constituent phrases. The phrases of the sentence can be interpreted as $\\text{\"The quick fox\"}\\to NP$ and $\\text{\"is quick\"}\\to VP$. And the sentence meaning depends on that order.\n",
    "\n",
    "We are going to use the `Stanford Parser` along with `NLTK` for constituency parsing. It is a **probabilistic context-free grammar** parser."
   ]
  },
  {
   "cell_type": "code",
   "execution_count": 76,
   "id": "genuine-deputy",
   "metadata": {},
   "outputs": [],
   "source": [
    "import os"
   ]
  },
  {
   "cell_type": "code",
   "execution_count": 77,
   "id": "pleased-congress",
   "metadata": {},
   "outputs": [],
   "source": [
    "java_path = r'stanford-parser-full-2020-11-17'\n",
    "os.environ['JAVAHOME'] = java_path"
   ]
  },
  {
   "cell_type": "code",
   "execution_count": 78,
   "id": "fossil-priority",
   "metadata": {},
   "outputs": [],
   "source": [
    "from nltk.parse.stanford import StanfordParser"
   ]
  },
  {
   "cell_type": "code",
   "execution_count": 82,
   "id": "capable-space",
   "metadata": {},
   "outputs": [
    {
     "name": "stderr",
     "output_type": "stream",
     "text": [
      "<ipython-input-82-cd9153387ac7>:1: DeprecationWarning: The StanfordParser will be deprecated\n",
      "Please use \u001b[91mnltk.parse.corenlp.CoreNLPParser\u001b[0m instead.\n",
      "  scp = StanfordParser(path_to_jar= '/Users/johnrizcallah/Documents/Springboard/Springboard/NLP_exercises/stanford-parser-full-2020-11-17/stanford-parser.jar',\n"
     ]
    },
    {
     "name": "stdout",
     "output_type": "stream",
     "text": [
      "(ROOT\n",
      "  (FRAG\n",
      "    (NP\n",
      "      (NP (NP (NNP Dogecoin) (POS 's)) (JJS biggest) (NN holder))\n",
      "      (SBAR\n",
      "        (S\n",
      "          (VP\n",
      "            (VBZ owns)\n",
      "            (NP\n",
      "              (NP (CD 28) (NN %))\n",
      "              (PP\n",
      "                (IN of)\n",
      "                (NP\n",
      "                  (NP (NN crypto))\n",
      "                  (VP\n",
      "                    (VBN valued)\n",
      "                    (PP\n",
      "                      (IN at)\n",
      "                      (NP (QP ($ $) (CD 2.1) (CD billion))))))))))))\n",
      "    (: :)\n",
      "    (NP (NNP Report))))\n"
     ]
    }
   ],
   "source": [
    "scp = StanfordParser(path_to_jar= '/Users/johnrizcallah/Documents/Springboard/Springboard/NLP_exercises/stanford-parser-full-2020-11-17/stanford-parser.jar',\n",
    "                     path_to_models_jar = '/Users/johnrizcallah/Documents/Springboard/Springboard/NLP_exercises/stanford-parser-full-2020-11-17/stanford-parser-4.2.0-models.jar')\n",
    "\n",
    "result = list(scp.raw_parse(sentence))\n",
    "print(result[0])\n"
   ]
  },
  {
   "cell_type": "code",
   "execution_count": 84,
   "id": "macro-royalty",
   "metadata": {},
   "outputs": [
    {
     "data": {
      "image/png": "[encoded data removed]",
      "text/plain": [
       "Tree('ROOT', [Tree('FRAG', [Tree('NP', [Tree('NP', [Tree('NP', [Tree('NNP', ['Dogecoin']), Tree('POS', [\"'s\"])]), Tree('JJS', ['biggest']), Tree('NN', ['holder'])]), Tree('SBAR', [Tree('S', [Tree('VP', [Tree('VBZ', ['owns']), Tree('NP', [Tree('NP', [Tree('CD', ['28']), Tree('NN', ['%'])]), Tree('PP', [Tree('IN', ['of']), Tree('NP', [Tree('NP', [Tree('NN', ['crypto'])]), Tree('VP', [Tree('VBN', ['valued']), Tree('PP', [Tree('IN', ['at']), Tree('NP', [Tree('QP', [Tree('$', ['$']), Tree('CD', ['2.1']), Tree('CD', ['billion'])])])])])])])])])])])]), Tree(':', [':']), Tree('NP', [Tree('NNP', ['Report'])])])])"
      ]
     },
     "metadata": {},
     "output_type": "display_data"
    }
   ],
   "source": [
    "from IPython.display import display\n",
    "display(result[0])"
   ]
  },
  {
   "cell_type": "markdown",
   "id": "reasonable-dance",
   "metadata": {},
   "source": [
    "That is what our Consituency Parsed sample sentence looks like. Pretty cool!"
   ]
  },
  {
   "cell_type": "markdown",
   "id": "accurate-wildlife",
   "metadata": {},
   "source": [
    "### Dependency Parsing\n",
    "\n",
    "Dependency parsing uses the relationship between words, namely that the meaning of words is dependent on the words around it, to understand syntax. In a sentence, there is one word that does not depend on any others for its meaning, called the root word; then there are words that depend on the root word, and other words that depend on those words, and so on. The dependency relationships add meaning.\n",
    "\n",
    "SpaCy has two English dependency parses; `Universal Dependencies Scheme` and the `CLEAR Style Dependency Scheme`.\n",
    "\n",
    "Our sample sentence is: \n",
    "\n",
    "\"Dogecoin's biggest holder owns 28% of crypto valued at $2.1 billion: Report\"\n",
    "\n",
    "In the example below, we can see that the word \"holder\" depends on the words \"Dogecoin\" and \"biggest\". We can see that \"owns\" depends on \"holder\", which in turn depends on \"Dogecoin\" and \"biggest\". And so on."
   ]
  },
  {
   "cell_type": "code",
   "execution_count": 86,
   "id": "established-plaza",
   "metadata": {},
   "outputs": [
    {
     "name": "stdout",
     "output_type": "stream",
     "text": [
      "[]<---Dogecoin[poss]--->[\"'s\"]\n",
      "--------\n",
      "[]<---'s[case]--->[]\n",
      "--------\n",
      "[]<---biggest[amod]--->[]\n",
      "--------\n",
      "['Dogecoin', 'biggest']<---holder[nsubj]--->[]\n",
      "--------\n",
      "['holder']<---owns[ROOT]--->['%', ':']\n",
      "--------\n",
      "[]<---28[nummod]--->[]\n",
      "--------\n",
      "['28']<---%[dobj]--->['of']\n",
      "--------\n",
      "[]<---of[prep]--->['crypto']\n",
      "--------\n",
      "[]<---crypto[pobj]--->['valued']\n",
      "--------\n",
      "[]<---valued[acl]--->['at']\n",
      "--------\n",
      "[]<---at[prep]--->['billion']\n",
      "--------\n",
      "[]<---$[quantmod]--->[]\n",
      "--------\n",
      "[]<---2.1[compound]--->[]\n",
      "--------\n",
      "['$', '2.1']<---billion[pobj]--->[]\n",
      "--------\n",
      "[]<---:[punct]--->[]\n",
      "--------\n",
      "[]<---Report[ROOT]--->[]\n",
      "--------\n"
     ]
    }
   ],
   "source": [
    "dependency_pattern = '{left}<---{word}[{w_type}]--->{right}\\n--------'\n",
    "for token in sentence_nlp:\n",
    "    print(dependency_pattern.format(word=token.orth_,\n",
    "                                   w_type = token.dep_,\n",
    "                                   left = [t.orth_ for t in token.lefts],\n",
    "                                   right = [t.orth_ for t in token.rights]))"
   ]
  },
  {
   "cell_type": "code",
   "execution_count": 89,
   "id": "transparent-nursery",
   "metadata": {},
   "outputs": [
    {
     "data": {
      "text/html": [
       "<span class=\"tex2jax_ignore\"><svg xmlns=\"http://www.w3.org/2000/svg\" xmlns:xlink=\"http://www.w3.org/1999/xlink\" xml:lang=\"en\" id=\"d6b7ddd8feb349b1819805d1f828f0ff-0\" class=\"displacy\" width=\"1590\" height=\"302.0\" direction=\"ltr\" style=\"max-width: none; height: 302.0px; color: #000000; background: #ffffff; font-family: Arial; direction: ltr\">\n",
       "<text class=\"displacy-token\" fill=\"currentColor\" text-anchor=\"middle\" y=\"212.0\">\n",
       "    <tspan class=\"displacy-word\" fill=\"currentColor\" x=\"50\">Dogecoin</tspan>\n",
       "    <tspan class=\"displacy-tag\" dy=\"2em\" fill=\"currentColor\" x=\"50\">PROPN</tspan>\n",
       "</text>\n",
       "\n",
       "<text class=\"displacy-token\" fill=\"currentColor\" text-anchor=\"middle\" y=\"212.0\">\n",
       "    <tspan class=\"displacy-word\" fill=\"currentColor\" x=\"160\">'s</tspan>\n",
       "    <tspan class=\"displacy-tag\" dy=\"2em\" fill=\"currentColor\" x=\"160\">PART</tspan>\n",
       "</text>\n",
       "\n",
       "<text class=\"displacy-token\" fill=\"currentColor\" text-anchor=\"middle\" y=\"212.0\">\n",
       "    <tspan class=\"displacy-word\" fill=\"currentColor\" x=\"270\">biggest</tspan>\n",
       "    <tspan class=\"displacy-tag\" dy=\"2em\" fill=\"currentColor\" x=\"270\">ADJ</tspan>\n",
       "</text>\n",
       "\n",
       "<text class=\"displacy-token\" fill=\"currentColor\" text-anchor=\"middle\" y=\"212.0\">\n",
       "    <tspan class=\"displacy-word\" fill=\"currentColor\" x=\"380\">holder</tspan>\n",
       "    <tspan class=\"displacy-tag\" dy=\"2em\" fill=\"currentColor\" x=\"380\">NOUN</tspan>\n",
       "</text>\n",
       "\n",
       "<text class=\"displacy-token\" fill=\"currentColor\" text-anchor=\"middle\" y=\"212.0\">\n",
       "    <tspan class=\"displacy-word\" fill=\"currentColor\" x=\"490\">owns</tspan>\n",
       "    <tspan class=\"displacy-tag\" dy=\"2em\" fill=\"currentColor\" x=\"490\">VERB</tspan>\n",
       "</text>\n",
       "\n",
       "<text class=\"displacy-token\" fill=\"currentColor\" text-anchor=\"middle\" y=\"212.0\">\n",
       "    <tspan class=\"displacy-word\" fill=\"currentColor\" x=\"600\">28%</tspan>\n",
       "    <tspan class=\"displacy-tag\" dy=\"2em\" fill=\"currentColor\" x=\"600\">NOUN</tspan>\n",
       "</text>\n",
       "\n",
       "<text class=\"displacy-token\" fill=\"currentColor\" text-anchor=\"middle\" y=\"212.0\">\n",
       "    <tspan class=\"displacy-word\" fill=\"currentColor\" x=\"710\">of</tspan>\n",
       "    <tspan class=\"displacy-tag\" dy=\"2em\" fill=\"currentColor\" x=\"710\">ADP</tspan>\n",
       "</text>\n",
       "\n",
       "<text class=\"displacy-token\" fill=\"currentColor\" text-anchor=\"middle\" y=\"212.0\">\n",
       "    <tspan class=\"displacy-word\" fill=\"currentColor\" x=\"820\">crypto</tspan>\n",
       "    <tspan class=\"displacy-tag\" dy=\"2em\" fill=\"currentColor\" x=\"820\">NOUN</tspan>\n",
       "</text>\n",
       "\n",
       "<text class=\"displacy-token\" fill=\"currentColor\" text-anchor=\"middle\" y=\"212.0\">\n",
       "    <tspan class=\"displacy-word\" fill=\"currentColor\" x=\"930\">valued</tspan>\n",
       "    <tspan class=\"displacy-tag\" dy=\"2em\" fill=\"currentColor\" x=\"930\">VERB</tspan>\n",
       "</text>\n",
       "\n",
       "<text class=\"displacy-token\" fill=\"currentColor\" text-anchor=\"middle\" y=\"212.0\">\n",
       "    <tspan class=\"displacy-word\" fill=\"currentColor\" x=\"1040\">at</tspan>\n",
       "    <tspan class=\"displacy-tag\" dy=\"2em\" fill=\"currentColor\" x=\"1040\">ADP</tspan>\n",
       "</text>\n",
       "\n",
       "<text class=\"displacy-token\" fill=\"currentColor\" text-anchor=\"middle\" y=\"212.0\">\n",
       "    <tspan class=\"displacy-word\" fill=\"currentColor\" x=\"1150\">$</tspan>\n",
       "    <tspan class=\"displacy-tag\" dy=\"2em\" fill=\"currentColor\" x=\"1150\">SYM</tspan>\n",
       "</text>\n",
       "\n",
       "<text class=\"displacy-token\" fill=\"currentColor\" text-anchor=\"middle\" y=\"212.0\">\n",
       "    <tspan class=\"displacy-word\" fill=\"currentColor\" x=\"1260\">2.1</tspan>\n",
       "    <tspan class=\"displacy-tag\" dy=\"2em\" fill=\"currentColor\" x=\"1260\">NUM</tspan>\n",
       "</text>\n",
       "\n",
       "<text class=\"displacy-token\" fill=\"currentColor\" text-anchor=\"middle\" y=\"212.0\">\n",
       "    <tspan class=\"displacy-word\" fill=\"currentColor\" x=\"1370\">billion:</tspan>\n",
       "    <tspan class=\"displacy-tag\" dy=\"2em\" fill=\"currentColor\" x=\"1370\">NUM</tspan>\n",
       "</text>\n",
       "\n",
       "<text class=\"displacy-token\" fill=\"currentColor\" text-anchor=\"middle\" y=\"212.0\">\n",
       "    <tspan class=\"displacy-word\" fill=\"currentColor\" x=\"1480\">Report</tspan>\n",
       "    <tspan class=\"displacy-tag\" dy=\"2em\" fill=\"currentColor\" x=\"1480\">VERB</tspan>\n",
       "</text>\n",
       "\n",
       "<g class=\"displacy-arrow\">\n",
       "    <path class=\"displacy-arc\" id=\"arrow-d6b7ddd8feb349b1819805d1f828f0ff-0-0\" stroke-width=\"2px\" d=\"M70,167.0 C70,2.0 380.0,2.0 380.0,167.0\" fill=\"none\" stroke=\"currentColor\"/>\n",
       "    <text dy=\"1.25em\" style=\"font-size: 0.8em; letter-spacing: 1px\">\n",
       "        <textPath xlink:href=\"#arrow-d6b7ddd8feb349b1819805d1f828f0ff-0-0\" class=\"displacy-label\" startOffset=\"50%\" side=\"left\" fill=\"currentColor\" text-anchor=\"middle\">poss</textPath>\n",
       "    </text>\n",
       "    <path class=\"displacy-arrowhead\" d=\"M70,169.0 L64,159.0 76,159.0\" fill=\"currentColor\"/>\n",
       "</g>\n",
       "\n",
       "<g class=\"displacy-arrow\">\n",
       "    <path class=\"displacy-arc\" id=\"arrow-d6b7ddd8feb349b1819805d1f828f0ff-0-1\" stroke-width=\"2px\" d=\"M70,167.0 C70,112.0 150.0,112.0 150.0,167.0\" fill=\"none\" stroke=\"currentColor\"/>\n",
       "    <text dy=\"1.25em\" style=\"font-size: 0.8em; letter-spacing: 1px\">\n",
       "        <textPath xlink:href=\"#arrow-d6b7ddd8feb349b1819805d1f828f0ff-0-1\" class=\"displacy-label\" startOffset=\"50%\" side=\"left\" fill=\"currentColor\" text-anchor=\"middle\">case</textPath>\n",
       "    </text>\n",
       "    <path class=\"displacy-arrowhead\" d=\"M150.0,169.0 L156.0,159.0 144.0,159.0\" fill=\"currentColor\"/>\n",
       "</g>\n",
       "\n",
       "<g class=\"displacy-arrow\">\n",
       "    <path class=\"displacy-arc\" id=\"arrow-d6b7ddd8feb349b1819805d1f828f0ff-0-2\" stroke-width=\"2px\" d=\"M290,167.0 C290,112.0 370.0,112.0 370.0,167.0\" fill=\"none\" stroke=\"currentColor\"/>\n",
       "    <text dy=\"1.25em\" style=\"font-size: 0.8em; letter-spacing: 1px\">\n",
       "        <textPath xlink:href=\"#arrow-d6b7ddd8feb349b1819805d1f828f0ff-0-2\" class=\"displacy-label\" startOffset=\"50%\" side=\"left\" fill=\"currentColor\" text-anchor=\"middle\">amod</textPath>\n",
       "    </text>\n",
       "    <path class=\"displacy-arrowhead\" d=\"M290,169.0 L284,159.0 296,159.0\" fill=\"currentColor\"/>\n",
       "</g>\n",
       "\n",
       "<g class=\"displacy-arrow\">\n",
       "    <path class=\"displacy-arc\" id=\"arrow-d6b7ddd8feb349b1819805d1f828f0ff-0-3\" stroke-width=\"2px\" d=\"M400,167.0 C400,112.0 480.0,112.0 480.0,167.0\" fill=\"none\" stroke=\"currentColor\"/>\n",
       "    <text dy=\"1.25em\" style=\"font-size: 0.8em; letter-spacing: 1px\">\n",
       "        <textPath xlink:href=\"#arrow-d6b7ddd8feb349b1819805d1f828f0ff-0-3\" class=\"displacy-label\" startOffset=\"50%\" side=\"left\" fill=\"currentColor\" text-anchor=\"middle\">nsubj</textPath>\n",
       "    </text>\n",
       "    <path class=\"displacy-arrowhead\" d=\"M400,169.0 L394,159.0 406,159.0\" fill=\"currentColor\"/>\n",
       "</g>\n",
       "\n",
       "<g class=\"displacy-arrow\">\n",
       "    <path class=\"displacy-arc\" id=\"arrow-d6b7ddd8feb349b1819805d1f828f0ff-0-4\" stroke-width=\"2px\" d=\"M510,167.0 C510,112.0 590.0,112.0 590.0,167.0\" fill=\"none\" stroke=\"currentColor\"/>\n",
       "    <text dy=\"1.25em\" style=\"font-size: 0.8em; letter-spacing: 1px\">\n",
       "        <textPath xlink:href=\"#arrow-d6b7ddd8feb349b1819805d1f828f0ff-0-4\" class=\"displacy-label\" startOffset=\"50%\" side=\"left\" fill=\"currentColor\" text-anchor=\"middle\">dobj</textPath>\n",
       "    </text>\n",
       "    <path class=\"displacy-arrowhead\" d=\"M590.0,169.0 L596.0,159.0 584.0,159.0\" fill=\"currentColor\"/>\n",
       "</g>\n",
       "\n",
       "<g class=\"displacy-arrow\">\n",
       "    <path class=\"displacy-arc\" id=\"arrow-d6b7ddd8feb349b1819805d1f828f0ff-0-5\" stroke-width=\"2px\" d=\"M620,167.0 C620,112.0 700.0,112.0 700.0,167.0\" fill=\"none\" stroke=\"currentColor\"/>\n",
       "    <text dy=\"1.25em\" style=\"font-size: 0.8em; letter-spacing: 1px\">\n",
       "        <textPath xlink:href=\"#arrow-d6b7ddd8feb349b1819805d1f828f0ff-0-5\" class=\"displacy-label\" startOffset=\"50%\" side=\"left\" fill=\"currentColor\" text-anchor=\"middle\">prep</textPath>\n",
       "    </text>\n",
       "    <path class=\"displacy-arrowhead\" d=\"M700.0,169.0 L706.0,159.0 694.0,159.0\" fill=\"currentColor\"/>\n",
       "</g>\n",
       "\n",
       "<g class=\"displacy-arrow\">\n",
       "    <path class=\"displacy-arc\" id=\"arrow-d6b7ddd8feb349b1819805d1f828f0ff-0-6\" stroke-width=\"2px\" d=\"M730,167.0 C730,112.0 810.0,112.0 810.0,167.0\" fill=\"none\" stroke=\"currentColor\"/>\n",
       "    <text dy=\"1.25em\" style=\"font-size: 0.8em; letter-spacing: 1px\">\n",
       "        <textPath xlink:href=\"#arrow-d6b7ddd8feb349b1819805d1f828f0ff-0-6\" class=\"displacy-label\" startOffset=\"50%\" side=\"left\" fill=\"currentColor\" text-anchor=\"middle\">pobj</textPath>\n",
       "    </text>\n",
       "    <path class=\"displacy-arrowhead\" d=\"M810.0,169.0 L816.0,159.0 804.0,159.0\" fill=\"currentColor\"/>\n",
       "</g>\n",
       "\n",
       "<g class=\"displacy-arrow\">\n",
       "    <path class=\"displacy-arc\" id=\"arrow-d6b7ddd8feb349b1819805d1f828f0ff-0-7\" stroke-width=\"2px\" d=\"M840,167.0 C840,112.0 920.0,112.0 920.0,167.0\" fill=\"none\" stroke=\"currentColor\"/>\n",
       "    <text dy=\"1.25em\" style=\"font-size: 0.8em; letter-spacing: 1px\">\n",
       "        <textPath xlink:href=\"#arrow-d6b7ddd8feb349b1819805d1f828f0ff-0-7\" class=\"displacy-label\" startOffset=\"50%\" side=\"left\" fill=\"currentColor\" text-anchor=\"middle\">acl</textPath>\n",
       "    </text>\n",
       "    <path class=\"displacy-arrowhead\" d=\"M920.0,169.0 L926.0,159.0 914.0,159.0\" fill=\"currentColor\"/>\n",
       "</g>\n",
       "\n",
       "<g class=\"displacy-arrow\">\n",
       "    <path class=\"displacy-arc\" id=\"arrow-d6b7ddd8feb349b1819805d1f828f0ff-0-8\" stroke-width=\"2px\" d=\"M950,167.0 C950,112.0 1030.0,112.0 1030.0,167.0\" fill=\"none\" stroke=\"currentColor\"/>\n",
       "    <text dy=\"1.25em\" style=\"font-size: 0.8em; letter-spacing: 1px\">\n",
       "        <textPath xlink:href=\"#arrow-d6b7ddd8feb349b1819805d1f828f0ff-0-8\" class=\"displacy-label\" startOffset=\"50%\" side=\"left\" fill=\"currentColor\" text-anchor=\"middle\">prep</textPath>\n",
       "    </text>\n",
       "    <path class=\"displacy-arrowhead\" d=\"M1030.0,169.0 L1036.0,159.0 1024.0,159.0\" fill=\"currentColor\"/>\n",
       "</g>\n",
       "\n",
       "<g class=\"displacy-arrow\">\n",
       "    <path class=\"displacy-arc\" id=\"arrow-d6b7ddd8feb349b1819805d1f828f0ff-0-9\" stroke-width=\"2px\" d=\"M1170,167.0 C1170,57.0 1365.0,57.0 1365.0,167.0\" fill=\"none\" stroke=\"currentColor\"/>\n",
       "    <text dy=\"1.25em\" style=\"font-size: 0.8em; letter-spacing: 1px\">\n",
       "        <textPath xlink:href=\"#arrow-d6b7ddd8feb349b1819805d1f828f0ff-0-9\" class=\"displacy-label\" startOffset=\"50%\" side=\"left\" fill=\"currentColor\" text-anchor=\"middle\">quantmod</textPath>\n",
       "    </text>\n",
       "    <path class=\"displacy-arrowhead\" d=\"M1170,169.0 L1164,159.0 1176,159.0\" fill=\"currentColor\"/>\n",
       "</g>\n",
       "\n",
       "<g class=\"displacy-arrow\">\n",
       "    <path class=\"displacy-arc\" id=\"arrow-d6b7ddd8feb349b1819805d1f828f0ff-0-10\" stroke-width=\"2px\" d=\"M1280,167.0 C1280,112.0 1360.0,112.0 1360.0,167.0\" fill=\"none\" stroke=\"currentColor\"/>\n",
       "    <text dy=\"1.25em\" style=\"font-size: 0.8em; letter-spacing: 1px\">\n",
       "        <textPath xlink:href=\"#arrow-d6b7ddd8feb349b1819805d1f828f0ff-0-10\" class=\"displacy-label\" startOffset=\"50%\" side=\"left\" fill=\"currentColor\" text-anchor=\"middle\">compound</textPath>\n",
       "    </text>\n",
       "    <path class=\"displacy-arrowhead\" d=\"M1280,169.0 L1274,159.0 1286,159.0\" fill=\"currentColor\"/>\n",
       "</g>\n",
       "\n",
       "<g class=\"displacy-arrow\">\n",
       "    <path class=\"displacy-arc\" id=\"arrow-d6b7ddd8feb349b1819805d1f828f0ff-0-11\" stroke-width=\"2px\" d=\"M1060,167.0 C1060,2.0 1370.0,2.0 1370.0,167.0\" fill=\"none\" stroke=\"currentColor\"/>\n",
       "    <text dy=\"1.25em\" style=\"font-size: 0.8em; letter-spacing: 1px\">\n",
       "        <textPath xlink:href=\"#arrow-d6b7ddd8feb349b1819805d1f828f0ff-0-11\" class=\"displacy-label\" startOffset=\"50%\" side=\"left\" fill=\"currentColor\" text-anchor=\"middle\">pobj</textPath>\n",
       "    </text>\n",
       "    <path class=\"displacy-arrowhead\" d=\"M1370.0,169.0 L1376.0,159.0 1364.0,159.0\" fill=\"currentColor\"/>\n",
       "</g>\n",
       "</svg></span>"
      ],
      "text/plain": [
       "<IPython.core.display.HTML object>"
      ]
     },
     "metadata": {},
     "output_type": "display_data"
    }
   ],
   "source": [
    "from spacy import displacy\n",
    "\n",
    "displacy.render(sentence_nlp, jupyter=True,\n",
    "                 options={'distance':110,\n",
    "                          'arrow_stroke':2,\n",
    "                          'arrow_width':8})"
   ]
  },
  {
   "cell_type": "markdown",
   "id": "hungry-cambodia",
   "metadata": {},
   "source": [
    "`NLTK` also has dependency parsers available. Like the `StanfordDependencyParser`."
   ]
  },
  {
   "cell_type": "code",
   "execution_count": 91,
   "id": "pleased-blast",
   "metadata": {},
   "outputs": [],
   "source": [
    "from nltk.parse.stanford import StanfordDependencyParser"
   ]
  },
  {
   "cell_type": "code",
   "execution_count": 93,
   "id": "brutal-banks",
   "metadata": {},
   "outputs": [
    {
     "name": "stderr",
     "output_type": "stream",
     "text": [
      "<ipython-input-93-3a740be5b004>:1: DeprecationWarning: The StanfordDependencyParser will be deprecated\n",
      "Please use \u001b[91mnltk.parse.corenlp.CoreNLPDependencyParser\u001b[0m instead.\n",
      "  sdp = StanfordDependencyParser(path_to_jar='/Users/johnrizcallah/Documents/Springboard/Springboard/NLP_exercises/stanford-parser-full-2020-11-17/stanford-parser.jar',\n"
     ]
    },
    {
     "name": "stdout",
     "output_type": "stream",
     "text": [
      "(holder\n",
      "  (Dogecoin 's)\n",
      "  biggest\n",
      "  (owns (% 28 (crypto of (valued ($ at (billion 2.1))))))\n",
      "  Report)\n"
     ]
    }
   ],
   "source": [
    "sdp = StanfordDependencyParser(path_to_jar='/Users/johnrizcallah/Documents/Springboard/Springboard/NLP_exercises/stanford-parser-full-2020-11-17/stanford-parser.jar',\n",
    "                               path_to_models_jar = '/Users/johnrizcallah/Documents/Springboard/Springboard/NLP_exercises/stanford-parser-full-2020-11-17/stanford-parser-4.2.0-models.jar')\n",
    "\n",
    "result = list(sdp.raw_parse(sentence))\n",
    "\n",
    "dep_tree = [parse.tree() for parse in result][0]\n",
    "print(dep_tree)"
   ]
  },
  {
   "cell_type": "code",
   "execution_count": 94,
   "id": "behind-local",
   "metadata": {},
   "outputs": [
    {
     "data": {
      "image/png": "[encoded data removed]",
      "text/plain": [
       "Tree('holder', [Tree('Dogecoin', [\"'s\"]), 'biggest', Tree('owns', [Tree('%', ['28', Tree('crypto', ['of', Tree('valued', [Tree('$', ['at', Tree('billion', ['2.1'])])])])])]), 'Report'])"
      ]
     },
     "metadata": {},
     "output_type": "display_data"
    }
   ],
   "source": [
    "display(dep_tree)"
   ]
  },
  {
   "cell_type": "markdown",
   "id": "silent-weekly",
   "metadata": {},
   "source": [
    "## Named Entity Recognition\n",
    "\n",
    "Named Entities are...things with names. Like a city, or a person, or an organization. These words do not have meaning outside of identifying the entity. \n",
    "\n",
    "Named entity recognition extracts the named entities from a document and can then classify or categorize those words based on context. SpaCy has easy-to-use NER capabilities."
   ]
  },
  {
   "cell_type": "code",
   "execution_count": 97,
   "id": "expressed-destiny",
   "metadata": {},
   "outputs": [
    {
     "data": {
      "text/plain": [
       "'Dogecoin\\'s biggest holder owns 28% of crypto valued at $2.1 billion: Report. The world\\'s biggest holder of Dogecoin owns 28% of the cryptocurrency in circulation and his position is worth $2.1 billion, according to a Wall Street Journal report. However, the identity of the person or entity is not known. The cryptocurrency, which was created based on a \"doge\" meme, recently hit market capitalisation of $10 billion amid a Reddit-driven rally.'"
      ]
     },
     "execution_count": 97,
     "metadata": {},
     "output_type": "execute_result"
    }
   ],
   "source": [
    "sentence = str(news_df.iloc[1].full_text)\n",
    "sentence"
   ]
  },
  {
   "cell_type": "code",
   "execution_count": 98,
   "id": "vulnerable-information",
   "metadata": {},
   "outputs": [
    {
     "name": "stdout",
     "output_type": "stream",
     "text": [
      "[(Dogecoin, 384), (28, 393), (%, 393), ($, 394), (2.1, 394), (billion, 394), (Dogecoin, 384), (28, 393), (%, 393), ($, 394), (2.1, 394), (billion, 394), (Wall, 383), (Street, 383), (Journal, 383), ($, 394), (10, 394), (billion, 394), (Reddit, 381)]\n"
     ]
    }
   ],
   "source": [
    "sentence_nlp = nlp(sentence)\n",
    "print([(word, word.ent_type) for word in sentence_nlp if word.ent_type_])"
   ]
  },
  {
   "cell_type": "code",
   "execution_count": 99,
   "id": "aerial-powell",
   "metadata": {},
   "outputs": [
    {
     "data": {
      "text/html": [
       "<span class=\"tex2jax_ignore\"><div class=\"entities\" style=\"line-height: 2.5; direction: ltr\">\n",
       "<mark class=\"entity\" style=\"background: #feca74; padding: 0.45em 0.6em; margin: 0 0.25em; line-height: 1; border-radius: 0.35em;\">\n",
       "    Dogecoin\n",
       "    <span style=\"font-size: 0.8em; font-weight: bold; line-height: 1; border-radius: 0.35em; vertical-align: middle; margin-left: 0.5rem\">GPE</span>\n",
       "</mark>\n",
       "'s biggest holder owns \n",
       "<mark class=\"entity\" style=\"background: #e4e7d2; padding: 0.45em 0.6em; margin: 0 0.25em; line-height: 1; border-radius: 0.35em;\">\n",
       "    28%\n",
       "    <span style=\"font-size: 0.8em; font-weight: bold; line-height: 1; border-radius: 0.35em; vertical-align: middle; margin-left: 0.5rem\">PERCENT</span>\n",
       "</mark>\n",
       " of crypto valued at \n",
       "<mark class=\"entity\" style=\"background: #e4e7d2; padding: 0.45em 0.6em; margin: 0 0.25em; line-height: 1; border-radius: 0.35em;\">\n",
       "    $2.1 billion\n",
       "    <span style=\"font-size: 0.8em; font-weight: bold; line-height: 1; border-radius: 0.35em; vertical-align: middle; margin-left: 0.5rem\">MONEY</span>\n",
       "</mark>\n",
       ": Report. The world's biggest holder of \n",
       "<mark class=\"entity\" style=\"background: #feca74; padding: 0.45em 0.6em; margin: 0 0.25em; line-height: 1; border-radius: 0.35em;\">\n",
       "    Dogecoin\n",
       "    <span style=\"font-size: 0.8em; font-weight: bold; line-height: 1; border-radius: 0.35em; vertical-align: middle; margin-left: 0.5rem\">GPE</span>\n",
       "</mark>\n",
       " owns \n",
       "<mark class=\"entity\" style=\"background: #e4e7d2; padding: 0.45em 0.6em; margin: 0 0.25em; line-height: 1; border-radius: 0.35em;\">\n",
       "    28%\n",
       "    <span style=\"font-size: 0.8em; font-weight: bold; line-height: 1; border-radius: 0.35em; vertical-align: middle; margin-left: 0.5rem\">PERCENT</span>\n",
       "</mark>\n",
       " of the cryptocurrency in circulation and his position is worth \n",
       "<mark class=\"entity\" style=\"background: #e4e7d2; padding: 0.45em 0.6em; margin: 0 0.25em; line-height: 1; border-radius: 0.35em;\">\n",
       "    $2.1 billion\n",
       "    <span style=\"font-size: 0.8em; font-weight: bold; line-height: 1; border-radius: 0.35em; vertical-align: middle; margin-left: 0.5rem\">MONEY</span>\n",
       "</mark>\n",
       ", according to a \n",
       "<mark class=\"entity\" style=\"background: #7aecec; padding: 0.45em 0.6em; margin: 0 0.25em; line-height: 1; border-radius: 0.35em;\">\n",
       "    Wall Street Journal\n",
       "    <span style=\"font-size: 0.8em; font-weight: bold; line-height: 1; border-radius: 0.35em; vertical-align: middle; margin-left: 0.5rem\">ORG</span>\n",
       "</mark>\n",
       " report. However, the identity of the person or entity is not known. The cryptocurrency, which was created based on a &quot;doge&quot; meme, recently hit market capitalisation of \n",
       "<mark class=\"entity\" style=\"background: #e4e7d2; padding: 0.45em 0.6em; margin: 0 0.25em; line-height: 1; border-radius: 0.35em;\">\n",
       "    $10 billion\n",
       "    <span style=\"font-size: 0.8em; font-weight: bold; line-height: 1; border-radius: 0.35em; vertical-align: middle; margin-left: 0.5rem\">MONEY</span>\n",
       "</mark>\n",
       " amid a \n",
       "<mark class=\"entity\" style=\"background: #c887fb; padding: 0.45em 0.6em; margin: 0 0.25em; line-height: 1; border-radius: 0.35em;\">\n",
       "    Reddit\n",
       "    <span style=\"font-size: 0.8em; font-weight: bold; line-height: 1; border-radius: 0.35em; vertical-align: middle; margin-left: 0.5rem\">NORP</span>\n",
       "</mark>\n",
       "-driven rally.</div></span>"
      ],
      "text/plain": [
       "<IPython.core.display.HTML object>"
      ]
     },
     "metadata": {},
     "output_type": "display_data"
    }
   ],
   "source": [
    "displacy.render(sentence_nlp, style='ent', jupyter=True)"
   ]
  },
  {
   "cell_type": "markdown",
   "id": "driving-intent",
   "metadata": {},
   "source": [
    "The quick and easy SpaCy NER algorithm knows that \"28%\" is a percent, \"$2.1 billion\" refers to an amount of money, the \"Wall Stree Journal\" is an organization, and classifies \"Reddit\" as a Nationality, Religious, or Political group. It also classifies \"Dogecoin\" as a Geo-Political Entity.\n",
    "\n",
    "Check this website for more information on entity types:\n",
    "\n",
    "https://spacy.io/api/data-formats#named-entities\n",
    "\n",
    "This same technique can be applied to the entire corpus to see which Named Entity appears in the recent news most often."
   ]
  },
  {
   "cell_type": "code",
   "execution_count": 100,
   "id": "nearby-shore",
   "metadata": {},
   "outputs": [],
   "source": [
    "named_entities = []\n",
    "\n",
    "for sentence in corpus:\n",
    "    temp_entity_name = ''\n",
    "    temp_named_entity = None\n",
    "    \n",
    "    sentence = nlp(sentence)\n",
    "    \n",
    "    for word in sentence:\n",
    "        term = word.text\n",
    "        tag = word.ent_type_\n",
    "        if tag:\n",
    "            temp_entity_name = ' '.join([temp_entity_name, term]).strip()\n",
    "            temp_named_entity = (temp_entity_name, tag)\n",
    "        else:\n",
    "            if temp_named_entity:\n",
    "                named_entities.append(temp_named_entity)\n",
    "                temp_entity_name = ''\n",
    "                temp_named_entity = None\n",
    "                \n",
    "entity_frame = pd.DataFrame(named_entities, columns = ['Entity Name', 'Entity Type'])"
   ]
  },
  {
   "cell_type": "code",
   "execution_count": 105,
   "id": "eight-feature",
   "metadata": {},
   "outputs": [
    {
     "data": {
      "text/html": [
       "<div>\n",
       "<style scoped>\n",
       "    .dataframe tbody tr th:only-of-type {\n",
       "        vertical-align: middle;\n",
       "    }\n",
       "\n",
       "    .dataframe tbody tr th {\n",
       "        vertical-align: top;\n",
       "    }\n",
       "\n",
       "    .dataframe thead th {\n",
       "        text-align: right;\n",
       "    }\n",
       "</style>\n",
       "<table border=\"1\" class=\"dataframe\">\n",
       "  <thead>\n",
       "    <tr style=\"text-align: right;\">\n",
       "      <th></th>\n",
       "      <th>0</th>\n",
       "      <th>1</th>\n",
       "      <th>2</th>\n",
       "      <th>3</th>\n",
       "      <th>4</th>\n",
       "      <th>5</th>\n",
       "      <th>6</th>\n",
       "      <th>7</th>\n",
       "      <th>8</th>\n",
       "      <th>9</th>\n",
       "      <th>10</th>\n",
       "      <th>11</th>\n",
       "      <th>12</th>\n",
       "      <th>13</th>\n",
       "      <th>14</th>\n",
       "    </tr>\n",
       "  </thead>\n",
       "  <tbody>\n",
       "    <tr>\n",
       "      <th>Entity Name</th>\n",
       "      <td>first</td>\n",
       "      <td>Australian</td>\n",
       "      <td>Australia</td>\n",
       "      <td>India</td>\n",
       "      <td>2021</td>\n",
       "      <td>US</td>\n",
       "      <td>Amazon</td>\n",
       "      <td>Thursday</td>\n",
       "      <td>KKR</td>\n",
       "      <td>COVID-19</td>\n",
       "      <td>CSK</td>\n",
       "      <td>IPL 2021</td>\n",
       "      <td>UK</td>\n",
       "      <td>2</td>\n",
       "      <td>China</td>\n",
       "    </tr>\n",
       "    <tr>\n",
       "      <th>Entity Type</th>\n",
       "      <td>ORDINAL</td>\n",
       "      <td>NORP</td>\n",
       "      <td>GPE</td>\n",
       "      <td>GPE</td>\n",
       "      <td>DATE</td>\n",
       "      <td>GPE</td>\n",
       "      <td>ORG</td>\n",
       "      <td>DATE</td>\n",
       "      <td>ORG</td>\n",
       "      <td>PERSON</td>\n",
       "      <td>ORG</td>\n",
       "      <td>DATE</td>\n",
       "      <td>GPE</td>\n",
       "      <td>CARDINAL</td>\n",
       "      <td>GPE</td>\n",
       "    </tr>\n",
       "    <tr>\n",
       "      <th>Frequency</th>\n",
       "      <td>16</td>\n",
       "      <td>15</td>\n",
       "      <td>11</td>\n",
       "      <td>11</td>\n",
       "      <td>11</td>\n",
       "      <td>10</td>\n",
       "      <td>10</td>\n",
       "      <td>9</td>\n",
       "      <td>8</td>\n",
       "      <td>8</td>\n",
       "      <td>7</td>\n",
       "      <td>6</td>\n",
       "      <td>6</td>\n",
       "      <td>6</td>\n",
       "      <td>6</td>\n",
       "    </tr>\n",
       "  </tbody>\n",
       "</table>\n",
       "</div>"
      ],
      "text/plain": [
       "                  0           1          2      3     4    5       6   \\\n",
       "Entity Name    first  Australian  Australia  India  2021   US  Amazon   \n",
       "Entity Type  ORDINAL        NORP        GPE    GPE  DATE  GPE     ORG   \n",
       "Frequency         16          15         11     11    11   10      10   \n",
       "\n",
       "                   7    8         9    10        11   12        13     14  \n",
       "Entity Name  Thursday  KKR  COVID-19  CSK  IPL 2021   UK         2  China  \n",
       "Entity Type      DATE  ORG    PERSON  ORG      DATE  GPE  CARDINAL    GPE  \n",
       "Frequency           9    8         8    7         6    6         6      6  "
      ]
     },
     "execution_count": 105,
     "metadata": {},
     "output_type": "execute_result"
    }
   ],
   "source": [
    "top_entities = (entity_frame.groupby(by = ['Entity Name', 'Entity Type'])).size().sort_values(ascending=False).reset_index().rename(columns = {0:'Frequency'})\n",
    "top_entities.T.iloc[:,:15]"
   ]
  },
  {
   "cell_type": "markdown",
   "id": "union-premium",
   "metadata": {},
   "source": [
    "Just from this, we can gather that *something* important is happening in Australia right now, that COVID-19 is defintely still big news, and that something happened in Indian Premiere League cricket (CSK and KKR are cricket teams). It is all still very vague, but we have an idea of what is being reported on in our corpus.\n",
    "\n",
    "We can also group by entity types to get an idea of what sort of entities are being reported on most."
   ]
  },
  {
   "cell_type": "code",
   "execution_count": 108,
   "id": "capable-rescue",
   "metadata": {},
   "outputs": [
    {
     "data": {
      "text/html": [
       "<div>\n",
       "<style scoped>\n",
       "    .dataframe tbody tr th:only-of-type {\n",
       "        vertical-align: middle;\n",
       "    }\n",
       "\n",
       "    .dataframe tbody tr th {\n",
       "        vertical-align: top;\n",
       "    }\n",
       "\n",
       "    .dataframe thead th {\n",
       "        text-align: right;\n",
       "    }\n",
       "</style>\n",
       "<table border=\"1\" class=\"dataframe\">\n",
       "  <thead>\n",
       "    <tr style=\"text-align: right;\">\n",
       "      <th></th>\n",
       "      <th>0</th>\n",
       "      <th>1</th>\n",
       "      <th>2</th>\n",
       "      <th>3</th>\n",
       "      <th>4</th>\n",
       "      <th>5</th>\n",
       "      <th>6</th>\n",
       "      <th>7</th>\n",
       "      <th>8</th>\n",
       "      <th>9</th>\n",
       "      <th>10</th>\n",
       "      <th>11</th>\n",
       "      <th>12</th>\n",
       "      <th>13</th>\n",
       "      <th>14</th>\n",
       "    </tr>\n",
       "  </thead>\n",
       "  <tbody>\n",
       "    <tr>\n",
       "      <th>Entity Type</th>\n",
       "      <td>PERSON</td>\n",
       "      <td>ORG</td>\n",
       "      <td>GPE</td>\n",
       "      <td>DATE</td>\n",
       "      <td>CARDINAL</td>\n",
       "      <td>NORP</td>\n",
       "      <td>ORDINAL</td>\n",
       "      <td>MONEY</td>\n",
       "      <td>PERCENT</td>\n",
       "      <td>LOC</td>\n",
       "      <td>PRODUCT</td>\n",
       "      <td>EVENT</td>\n",
       "      <td>TIME</td>\n",
       "      <td>WORK_OF_ART</td>\n",
       "      <td>FAC</td>\n",
       "    </tr>\n",
       "    <tr>\n",
       "      <th>Frequency</th>\n",
       "      <td>137</td>\n",
       "      <td>128</td>\n",
       "      <td>108</td>\n",
       "      <td>95</td>\n",
       "      <td>78</td>\n",
       "      <td>41</td>\n",
       "      <td>31</td>\n",
       "      <td>12</td>\n",
       "      <td>7</td>\n",
       "      <td>6</td>\n",
       "      <td>6</td>\n",
       "      <td>4</td>\n",
       "      <td>3</td>\n",
       "      <td>3</td>\n",
       "      <td>2</td>\n",
       "    </tr>\n",
       "  </tbody>\n",
       "</table>\n",
       "</div>"
      ],
      "text/plain": [
       "                 0    1    2     3         4     5        6      7        8   \\\n",
       "Entity Type  PERSON  ORG  GPE  DATE  CARDINAL  NORP  ORDINAL  MONEY  PERCENT   \n",
       "Frequency       137  128  108    95        78    41       31     12        7   \n",
       "\n",
       "              9        10     11    12           13   14  \n",
       "Entity Type  LOC  PRODUCT  EVENT  TIME  WORK_OF_ART  FAC  \n",
       "Frequency      6        6      4     3            3    2  "
      ]
     },
     "execution_count": 108,
     "metadata": {},
     "output_type": "execute_result"
    }
   ],
   "source": [
    "top_entities = (entity_frame.groupby(by = ['Entity Type']).size().sort_values(ascending=False).reset_index().rename(columns={0:'Frequency'}))\n",
    "top_entities.T.iloc[:,:15]"
   ]
  },
  {
   "cell_type": "markdown",
   "id": "durable-bruce",
   "metadata": {},
   "source": [
    "So the reporting is mostly on specific people, then organizations, then geo-policitcal entities, dates, and so on.\n",
    "\n",
    "`NLTK` also has NER capabilities, such as the `StanfordNERTagger`; this requires the Java scripts to be downloaded from the Stanford NER website. It gives similar results to the SpaCy algorithm and so will not be done here."
   ]
  },
  {
   "cell_type": "markdown",
   "id": "russian-sphere",
   "metadata": {},
   "source": [
    "### Emotion and Sentiment Analysis\n",
    "\n",
    "Communication experts will tell you that some of the most important information that any communication carries is the sentiment, or emotion, of the communicator. Thus, it is important for Natural Language Processing to identify and quantify sentiment. It is often quantified as **polarity**, represented by positive and negative numbers, and the human interpretation is that positive polarity correlates with positive sentiment and negative polarity indicates negative sentiment. \n",
    "\n",
    "Sentiment analysis is mostly used when the text is subjective, such as reviews, rather than objective, such as technical instructions. However, sentiment is an important part of any attempt at communication, and so sentiment analysis can and perhaps should be used everywhere.\n",
    "\n",
    "How to go about analyzing sentiment is a matter of much research. The two major approaches are Machine-Learning based approaches, which use supervised learning (often deep learning) methods, and Lexicon based approaches, which use rules based on word meaning and do not require labelled data to train.\n",
    "\n",
    "Some popular Lexicon-based Sentiment Analysis Lexicons are:\n",
    "\n",
    "* AFINN Lexicon\n",
    "* Bing Liu's Lexicon\n",
    "* MPQA subjectivity Lexicon\n",
    "* SentiWordNet\n",
    "* TextBlob Lexicon\n",
    "* VADER Lexicon\n",
    "\n",
    "I used VADER in my analysis of sentiment in reporting as a measure of news bias. It was very easy to use. We will use AFINN here."
   ]
  },
  {
   "cell_type": "code",
   "execution_count": 110,
   "id": "thorough-rapid",
   "metadata": {},
   "outputs": [],
   "source": [
    "from afinn import Afinn"
   ]
  },
  {
   "cell_type": "code",
   "execution_count": 119,
   "id": "sunset-avatar",
   "metadata": {},
   "outputs": [
    {
     "data": {
      "text/html": [
       "<div>\n",
       "<style scoped>\n",
       "    .dataframe tbody tr th:only-of-type {\n",
       "        vertical-align: middle;\n",
       "    }\n",
       "\n",
       "    .dataframe tbody tr th {\n",
       "        vertical-align: top;\n",
       "    }\n",
       "\n",
       "    .dataframe thead tr th {\n",
       "        text-align: left;\n",
       "    }\n",
       "\n",
       "    .dataframe thead tr:last-of-type th {\n",
       "        text-align: right;\n",
       "    }\n",
       "</style>\n",
       "<table border=\"1\" class=\"dataframe\">\n",
       "  <thead>\n",
       "    <tr>\n",
       "      <th></th>\n",
       "      <th colspan=\"8\" halign=\"left\">sentiment_score</th>\n",
       "    </tr>\n",
       "    <tr>\n",
       "      <th></th>\n",
       "      <th>count</th>\n",
       "      <th>mean</th>\n",
       "      <th>std</th>\n",
       "      <th>min</th>\n",
       "      <th>25%</th>\n",
       "      <th>50%</th>\n",
       "      <th>75%</th>\n",
       "      <th>max</th>\n",
       "    </tr>\n",
       "    <tr>\n",
       "      <th>news_category</th>\n",
       "      <th></th>\n",
       "      <th></th>\n",
       "      <th></th>\n",
       "      <th></th>\n",
       "      <th></th>\n",
       "      <th></th>\n",
       "      <th></th>\n",
       "      <th></th>\n",
       "    </tr>\n",
       "  </thead>\n",
       "  <tbody>\n",
       "    <tr>\n",
       "      <th>sports</th>\n",
       "      <td>25.0</td>\n",
       "      <td>1.24</td>\n",
       "      <td>3.369965</td>\n",
       "      <td>-5.0</td>\n",
       "      <td>0.0</td>\n",
       "      <td>0.0</td>\n",
       "      <td>2.0</td>\n",
       "      <td>9.0</td>\n",
       "    </tr>\n",
       "    <tr>\n",
       "      <th>technology</th>\n",
       "      <td>25.0</td>\n",
       "      <td>-0.84</td>\n",
       "      <td>5.647123</td>\n",
       "      <td>-17.0</td>\n",
       "      <td>-3.0</td>\n",
       "      <td>0.0</td>\n",
       "      <td>2.0</td>\n",
       "      <td>9.0</td>\n",
       "    </tr>\n",
       "    <tr>\n",
       "      <th>world</th>\n",
       "      <td>25.0</td>\n",
       "      <td>-5.08</td>\n",
       "      <td>7.745536</td>\n",
       "      <td>-24.0</td>\n",
       "      <td>-9.0</td>\n",
       "      <td>-3.0</td>\n",
       "      <td>-1.0</td>\n",
       "      <td>10.0</td>\n",
       "    </tr>\n",
       "  </tbody>\n",
       "</table>\n",
       "</div>"
      ],
      "text/plain": [
       "              sentiment_score                                           \n",
       "                        count  mean       std   min  25%  50%  75%   max\n",
       "news_category                                                           \n",
       "sports                   25.0  1.24  3.369965  -5.0  0.0  0.0  2.0   9.0\n",
       "technology               25.0 -0.84  5.647123 -17.0 -3.0  0.0  2.0   9.0\n",
       "world                    25.0 -5.08  7.745536 -24.0 -9.0 -3.0 -1.0  10.0"
      ]
     },
     "execution_count": 119,
     "metadata": {},
     "output_type": "execute_result"
    }
   ],
   "source": [
    "# initialize AFINN analyzer\n",
    "af = Afinn()\n",
    "\n",
    "# compute sentiment scores\n",
    "sentiment_scores = [af.score(article) for article in corpus]\n",
    "\n",
    "sentiment_category = ['positive' if score>0 else 'negative' if score < 0 else 'neutral' for score in sentiment_scores]\n",
    "\n",
    "df = pd.DataFrame([list(news_df['news_category']), sentiment_scores, sentiment_category]).T\n",
    "df.columns = ['news_category', 'sentiment_score', 'sentiment_category']\n",
    "df['sentiment_score'] = df.sentiment_score.astype('float')\n",
    "df.groupby(by=['news_category']).describe()"
   ]
  },
  {
   "cell_type": "markdown",
   "id": "italic-measure",
   "metadata": {},
   "source": [
    "Wow! The mean is positive in Sports, a bit negative in Technology, and ***VERY*** negative in World. Wow. It is also the most volatile in World. Let's plot this."
   ]
  },
  {
   "cell_type": "code",
   "execution_count": 120,
   "id": "natural-blackjack",
   "metadata": {},
   "outputs": [
    {
     "data": {
      "image/png": "[encoded data removed]",
      "text/plain": [
       "<Figure size 1008x576 with 2 Axes>"
      ]
     },
     "metadata": {
      "needs_background": "light"
     },
     "output_type": "display_data"
    }
   ],
   "source": [
    "f, (ax1, ax2) = plt.subplots(1,2,figsize=(14,8))\n",
    "sp = sns.stripplot(x='news_category', y='sentiment_score', hue='news_category', data=df, ax=ax1)\n",
    "\n",
    "bp = sns.boxplot(x='news_category', y='sentiment_score', hue='news_category', data=df, ax=ax2, palette=\"Set2\")\n",
    "\n",
    "t = f.suptitle('Visualizing News Sentiment', fontsize=14)"
   ]
  },
  {
   "cell_type": "markdown",
   "id": "fewer-option",
   "metadata": {},
   "source": [
    "The spread in the World section is relatively extreme. Perhaps a barplot of the number of positive, negative, and neutral articles in each category will yield new insight."
   ]
  },
  {
   "cell_type": "code",
   "execution_count": 123,
   "id": "alike-geography",
   "metadata": {},
   "outputs": [
    {
     "data": {
      "image/png": "[encoded data removed]",
      "text/plain": [
       "<Figure size 467.5x360 with 1 Axes>"
      ]
     },
     "metadata": {
      "needs_background": "light"
     },
     "output_type": "display_data"
    }
   ],
   "source": [
    "fc = sns.catplot(x='news_category', hue='sentiment_category', data=df, kind='count',\n",
    "                   palette={\"negative\":\"red\",\n",
    "                           \"positive\":\"green\",\n",
    "                           \"neutral\":\"blue\"});"
   ]
  },
  {
   "cell_type": "markdown",
   "id": "metric-likelihood",
   "metadata": {},
   "source": [
    "The World news is very predominantly negative, and relatively non-neutral. Well, there is a pandemic on. Let's dive a bit deeper into this spceific news category and see what more we can learn."
   ]
  },
  {
   "cell_type": "code",
   "execution_count": 136,
   "id": "lonely-interview",
   "metadata": {},
   "outputs": [
    {
     "name": "stdout",
     "output_type": "stream",
     "text": [
      "Most POSITIVE Article: \n",
      " \n",
      " NZ schools to offer free sanitary products to fight period poverty. All schools in New Zealand will have access to free period products from June, PM Jacinda Ardern said. \"Providing free period products at school is one way the government can directly address poverty, help increase school attendance, and make a positive impact on children's well-being,\" Ardern added. The move follows a successful pilot programme in 15 schools last year.\n",
      "\n",
      "\n",
      "Most NEGATIVE Article: \n",
      " \n",
      " Dozens held in fresh protests over rapper's jailing in Spain. Spanish Police arrested over 50 people during the second night of protests demanding the release of jailed rapper Pablo Hasél, who was arrested on charges of glorifying terrorism and insulting royalty. Some of the protesters barricaded the streets, set fire to trash cans and clashed with the police. Around 55 people were injured during the protests, including 35 police officers.\n"
     ]
    }
   ],
   "source": [
    "pos_idx = df[(df.news_category=='world') & (df.sentiment_score==np.max(df.sentiment_score))].index[0]\n",
    "neg_idx = df[(df.news_category=='world') & (df.sentiment_score==np.min(df.sentiment_score))].index[0]\n",
    "\n",
    "print(\"Most POSITIVE Article: \\n \\n\", news_df.loc[pos_idx, 'full_text'])\n",
    "\n",
    "print()\n",
    "print()\n",
    "\n",
    "print(\"Most NEGATIVE Article: \\n \\n\", news_df.loc[neg_idx, 'full_text'])"
   ]
  },
  {
   "cell_type": "markdown",
   "id": "mental-screening",
   "metadata": {},
   "source": [
    "The most positive thing happening around the world, apparently, is that the schools in New Zealand are offering free sanitary products to help young women in need. That is great news!\n",
    "\n",
    "The most negative thing happening around the world, apparently, is mass protests in Spain that turned violent and lead to 55 injuries.\n",
    "\n",
    "Let's try similar sentiment analysis with `TextBlob`."
   ]
  },
  {
   "cell_type": "code",
   "execution_count": 137,
   "id": "informal-destiny",
   "metadata": {},
   "outputs": [],
   "source": [
    "from textblob import TextBlob"
   ]
  },
  {
   "cell_type": "code",
   "execution_count": 140,
   "id": "aquatic-louis",
   "metadata": {},
   "outputs": [
    {
     "data": {
      "text/html": [
       "<div>\n",
       "<style scoped>\n",
       "    .dataframe tbody tr th:only-of-type {\n",
       "        vertical-align: middle;\n",
       "    }\n",
       "\n",
       "    .dataframe tbody tr th {\n",
       "        vertical-align: top;\n",
       "    }\n",
       "\n",
       "    .dataframe thead tr th {\n",
       "        text-align: left;\n",
       "    }\n",
       "\n",
       "    .dataframe thead tr:last-of-type th {\n",
       "        text-align: right;\n",
       "    }\n",
       "</style>\n",
       "<table border=\"1\" class=\"dataframe\">\n",
       "  <thead>\n",
       "    <tr>\n",
       "      <th></th>\n",
       "      <th colspan=\"8\" halign=\"left\">sentiment_score</th>\n",
       "    </tr>\n",
       "    <tr>\n",
       "      <th></th>\n",
       "      <th>count</th>\n",
       "      <th>mean</th>\n",
       "      <th>std</th>\n",
       "      <th>min</th>\n",
       "      <th>25%</th>\n",
       "      <th>50%</th>\n",
       "      <th>75%</th>\n",
       "      <th>max</th>\n",
       "    </tr>\n",
       "    <tr>\n",
       "      <th>news_category</th>\n",
       "      <th></th>\n",
       "      <th></th>\n",
       "      <th></th>\n",
       "      <th></th>\n",
       "      <th></th>\n",
       "      <th></th>\n",
       "      <th></th>\n",
       "      <th></th>\n",
       "    </tr>\n",
       "  </thead>\n",
       "  <tbody>\n",
       "    <tr>\n",
       "      <th>sports</th>\n",
       "      <td>25.0</td>\n",
       "      <td>-0.03696</td>\n",
       "      <td>0.234872</td>\n",
       "      <td>-0.500</td>\n",
       "      <td>-0.230</td>\n",
       "      <td>-0.084</td>\n",
       "      <td>0.130</td>\n",
       "      <td>0.507</td>\n",
       "    </tr>\n",
       "    <tr>\n",
       "      <th>technology</th>\n",
       "      <td>25.0</td>\n",
       "      <td>0.04780</td>\n",
       "      <td>0.137114</td>\n",
       "      <td>-0.344</td>\n",
       "      <td>-0.005</td>\n",
       "      <td>0.017</td>\n",
       "      <td>0.117</td>\n",
       "      <td>0.312</td>\n",
       "    </tr>\n",
       "    <tr>\n",
       "      <th>world</th>\n",
       "      <td>25.0</td>\n",
       "      <td>-0.04012</td>\n",
       "      <td>0.166722</td>\n",
       "      <td>-0.567</td>\n",
       "      <td>-0.050</td>\n",
       "      <td>0.000</td>\n",
       "      <td>0.025</td>\n",
       "      <td>0.302</td>\n",
       "    </tr>\n",
       "  </tbody>\n",
       "</table>\n",
       "</div>"
      ],
      "text/plain": [
       "              sentiment_score                                                 \\\n",
       "                        count     mean       std    min    25%    50%    75%   \n",
       "news_category                                                                  \n",
       "sports                   25.0 -0.03696  0.234872 -0.500 -0.230 -0.084  0.130   \n",
       "technology               25.0  0.04780  0.137114 -0.344 -0.005  0.017  0.117   \n",
       "world                    25.0 -0.04012  0.166722 -0.567 -0.050  0.000  0.025   \n",
       "\n",
       "                      \n",
       "                 max  \n",
       "news_category         \n",
       "sports         0.507  \n",
       "technology     0.312  \n",
       "world          0.302  "
      ]
     },
     "execution_count": 140,
     "metadata": {},
     "output_type": "execute_result"
    }
   ],
   "source": [
    "# calculate sentiment scores\n",
    "sentiment_scores_tb = [round(TextBlob(article).sentiment.polarity, 3) for article in news_df['clean_text']]\n",
    "sentiment_category_tb = ['positive' if score >0 else 'negative' if score <0 else 'neutral' for score in sentiment_scores_tb]\n",
    "\n",
    "df = pd.DataFrame([list(news_df['news_category']), sentiment_scores_tb, sentiment_category_tb]).T\n",
    "df.columns = ['news_category', 'sentiment_score', 'sentiment_category']\n",
    "df['sentiment_score'] = df.sentiment_score.astype('float')\n",
    "df.groupby(by = ['news_category']).describe()\n"
   ]
  },
  {
   "cell_type": "markdown",
   "id": "strategic-marine",
   "metadata": {},
   "source": [
    "The `TextBlob` analysis yields quite different results. Not, all of the means are near zero. Sports instead is negative, Technology is Positive, but World is still the most negative."
   ]
  },
  {
   "cell_type": "code",
   "execution_count": 141,
   "id": "palestinian-superintendent",
   "metadata": {},
   "outputs": [
    {
     "data": {
      "image/png": "[encoded data removed]",
      "text/plain": [
       "<Figure size 467.5x360 with 1 Axes>"
      ]
     },
     "metadata": {
      "needs_background": "light"
     },
     "output_type": "display_data"
    }
   ],
   "source": [
    "fc = sns.catplot(x='news_category', hue='sentiment_category', data=df, kind='count',\n",
    "                   palette={\"negative\":\"red\",\n",
    "                           \"positive\":\"green\",\n",
    "                           \"neutral\":\"blue\"});"
   ]
  },
  {
   "cell_type": "markdown",
   "id": "exotic-hampton",
   "metadata": {},
   "source": [
    "In the barplot, we can see how `TextBlob` returns very different sentiment categories than `AFINN`. Let's check the most positive and negative World News article."
   ]
  },
  {
   "cell_type": "code",
   "execution_count": 156,
   "id": "impossible-dietary",
   "metadata": {},
   "outputs": [
    {
     "name": "stdout",
     "output_type": "stream",
     "text": [
      "Most POSITIVE Article: \n",
      " \n",
      " NZ schools to offer free sanitary products to fight period poverty. All schools in New Zealand will have access to free period products from June, PM Jacinda Ardern said. \"Providing free period products at school is one way the government can directly address poverty, help increase school attendance, and make a positive impact on children's well-being,\" Ardern added. The move follows a successful pilot programme in 15 schools last year.\n",
      "\n",
      "\n",
      "Most NEGATIVE Article: \n",
      " \n",
      " UAE dismantles parts of its military base in Eritrea: Report. The United Arab Emirates (UAE) is dismantling parts of its military base in Eritrea after it withdrew most of its forces from the civil war in Yemen, a report said. The UAE had used to base to transport weapons and troops into Yemen. The UAE had stationed tanks, self-propelled howitzers and amphibious fighting vehicles at the base, UN experts said. \n"
     ]
    }
   ],
   "source": [
    "pos_idx = df.loc[(df['news_category'] == 'world') & (df['sentiment_score'] ==np.max(df.loc[df['news_category'] == 'world', 'sentiment_score']))].index[0]\n",
    "neg_idx = df.loc[(df['news_category'] == 'world') & (df['sentiment_score'] ==np.min(df.loc[df['news_category'] == 'world', 'sentiment_score']))].index[0]\n",
    "\n",
    "print(\"Most POSITIVE Article: \\n \\n\", news_df.loc[pos_idx, 'full_text'])\n",
    "\n",
    "print()\n",
    "print()\n",
    "\n",
    "print(\"Most NEGATIVE Article: \\n \\n\", news_df.loc[neg_idx, 'full_text'])"
   ]
  },
  {
   "cell_type": "markdown",
   "id": "lyric-seventh",
   "metadata": {},
   "source": [
    "Once again, the most positive article is about New Zealand schools offering free sanitary products to young women in need. But the negative article has changed! Now, the most negative thing in the world news is the UAE dismantling its base in Eritrea after withdrawing from the civil war in Yemen. \n",
    "\n",
    "We can check the differences between the two Lexicon models using a confusion matrix."
   ]
  },
  {
   "cell_type": "code",
   "execution_count": 177,
   "id": "valid-spectacular",
   "metadata": {},
   "outputs": [],
   "source": [
    "from sklearn.metrics import confusion_matrix, ConfusionMatrixDisplay"
   ]
  },
  {
   "cell_type": "code",
   "execution_count": 183,
   "id": "valid-timber",
   "metadata": {},
   "outputs": [],
   "source": [
    "confmat = confusion_matrix(sentiment_category, sentiment_category_tb, labels=list(np.unique(sentiment_category)))"
   ]
  },
  {
   "cell_type": "code",
   "execution_count": 186,
   "id": "cognitive-disabled",
   "metadata": {},
   "outputs": [
    {
     "data": {
      "image/png": "[encoded data removed]",
      "text/plain": [
       "<Figure size 432x288 with 2 Axes>"
      ]
     },
     "metadata": {
      "needs_background": "light"
     },
     "output_type": "display_data"
    }
   ],
   "source": [
    "disp = ConfusionMatrixDisplay(confmat, display_labels=list(np.unique(sentiment_category)))\n",
    "disp.plot(cmap='YlGnBu')\n",
    "plt.title('Confusion Matrix comparing AFINN to TextBlob')\n",
    "plt.xlabel('AFINN')\n",
    "plt.ylabel('TextBlob');"
   ]
  },
  {
   "cell_type": "markdown",
   "id": "humanitarian-adaptation",
   "metadata": {},
   "source": [
    "We can see that they storngly disagree on which articles count as \"neutral\". Other than that, they are agree often. There are some articles which AFINN thinks are positive that TextBlob thinks are negative.\n",
    "\n",
    "This has been an in-depth guide to practicing Natural Language Processing. I enjoyed it! \n",
    "\n",
    "Cheers."
   ]
  },
  {
   "cell_type": "code",
   "execution_count": null,
   "id": "several-silence",
   "metadata": {},
   "outputs": [],
   "source": []
  }
 ],
 "metadata": {
  "kernelspec": {
   "display_name": "Python 3",
   "language": "python",
   "name": "python3"
  },
  "language_info": {
   "codemirror_mode": {
    "name": "ipython",
    "version": 3
   },
   "file_extension": ".py",
   "mimetype": "text/x-python",
   "name": "python",
   "nbconvert_exporter": "python",
   "pygments_lexer": "ipython3",
   "version": "3.9.1"
  }
 },
 "nbformat": 4,
 "nbformat_minor": 5
}
